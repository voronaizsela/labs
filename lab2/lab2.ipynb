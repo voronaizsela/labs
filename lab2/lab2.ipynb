{
 "cells": [
  {
   "cell_type": "markdown",
   "id": "4eea878b-8368-4e01-b53c-459df6f4a13a",
   "metadata": {},
   "source": [
    "# Лабораторна робота No2\n",
    "## Наука про дані: підготовчий етап\n",
    "\n",
    "### Мета роботи: ознайомитися з основними кроками по роботі з даними – workflow від постановки задачі до написання пояснювальної записки, зрозуміти постановку задачі."
   ]
  },
  {
   "cell_type": "code",
   "execution_count": 1,
   "id": "614d8a06-ce30-4e64-808c-365773b7a8b7",
   "metadata": {},
   "outputs": [
    {
     "name": "stdout",
     "output_type": "stream",
     "text": [
      "Завантажено.\n"
     ]
    }
   ],
   "source": [
    "import os\n",
    "import pandas as pd\n",
    "import urllib.request\n",
    "from datetime import datetime\n",
    "import numpy as np\n",
    "import shutil\n",
    "print(\"Завантажено.\")"
   ]
  },
  {
   "cell_type": "markdown",
   "id": "e2dab5bc-6ca1-40ee-91e3-e0ab766dee9a",
   "metadata": {},
   "source": [
    "#### 1. Для кожної із адміністративних одиниць України завантажити тестові структуровані файли, що містять значення VHI-індексу. Ця процедура має бути автоматизована, параметром процедури має бути індекс (номер) області. При зберіганні файлу до його імені потрібно додати дату та час завантаження."
   ]
  },
  {
   "cell_type": "code",
   "execution_count": 2,
   "id": "a0f48214-18b5-4119-b1d7-fc4f965dd6e4",
   "metadata": {},
   "outputs": [
    {
     "name": "stdout",
     "output_type": "stream",
     "text": [
      "VHI адмін. одиниці з індексом 1 збережено як vhi_id=1_2024-03-22_11-24-27.csv.\n",
      "VHI адмін. одиниці з індексом 2 збережено як vhi_id=2_2024-03-22_11-24-28.csv.\n",
      "VHI адмін. одиниці з індексом 3 збережено як vhi_id=3_2024-03-22_11-24-29.csv.\n",
      "VHI адмін. одиниці з індексом 4 збережено як vhi_id=4_2024-03-22_11-24-30.csv.\n",
      "VHI адмін. одиниці з індексом 5 збережено як vhi_id=5_2024-03-22_11-24-31.csv.\n",
      "VHI адмін. одиниці з індексом 6 збережено як vhi_id=6_2024-03-22_11-24-32.csv.\n",
      "VHI адмін. одиниці з індексом 7 збережено як vhi_id=7_2024-03-22_11-24-33.csv.\n",
      "VHI адмін. одиниці з індексом 8 збережено як vhi_id=8_2024-03-22_11-24-34.csv.\n",
      "VHI адмін. одиниці з індексом 9 збережено як vhi_id=9_2024-03-22_11-24-34.csv.\n",
      "VHI адмін. одиниці з індексом 10 збережено як vhi_id=10_2024-03-22_11-24-35.csv.\n",
      "VHI адмін. одиниці з індексом 11 збережено як vhi_id=11_2024-03-22_11-24-36.csv.\n",
      "VHI адмін. одиниці з індексом 12 збережено як vhi_id=12_2024-03-22_11-24-37.csv.\n",
      "VHI адмін. одиниці з індексом 13 збережено як vhi_id=13_2024-03-22_11-24-38.csv.\n",
      "VHI адмін. одиниці з індексом 14 збережено як vhi_id=14_2024-03-22_11-24-39.csv.\n",
      "VHI адмін. одиниці з індексом 15 збережено як vhi_id=15_2024-03-22_11-24-40.csv.\n",
      "VHI адмін. одиниці з індексом 16 збережено як vhi_id=16_2024-03-22_11-24-40.csv.\n",
      "VHI адмін. одиниці з індексом 17 збережено як vhi_id=17_2024-03-22_11-24-41.csv.\n",
      "VHI адмін. одиниці з індексом 18 збережено як vhi_id=18_2024-03-22_11-24-42.csv.\n",
      "VHI адмін. одиниці з індексом 19 збережено як vhi_id=19_2024-03-22_11-24-43.csv.\n",
      "VHI адмін. одиниці з індексом 20 збережено як vhi_id=20_2024-03-22_11-24-44.csv.\n",
      "VHI адмін. одиниці з індексом 21 збережено як vhi_id=21_2024-03-22_11-24-45.csv.\n",
      "VHI адмін. одиниці з індексом 22 збережено як vhi_id=22_2024-03-22_11-24-46.csv.\n",
      "VHI адмін. одиниці з індексом 23 збережено як vhi_id=23_2024-03-22_11-24-46.csv.\n",
      "VHI адмін. одиниці з індексом 24 збережено як vhi_id=24_2024-03-22_11-24-47.csv.\n",
      "VHI адмін. одиниці з індексом 25 збережено як vhi_id=25_2024-03-22_11-24-49.csv.\n",
      "VHI адмін. одиниці з індексом 26 збережено як vhi_id=26_2024-03-22_11-24-50.csv.\n",
      "VHI адмін. одиниці з індексом 27 збережено як vhi_id=27_2024-03-22_11-24-51.csv.\n"
     ]
    }
   ],
   "source": [
    "import ssl\n",
    "ssl._create_default_https_context = ssl._create_unverified_context\n",
    "\n",
    "def download():\n",
    "    directory = 'VHI(lab2)'\n",
    "\n",
    "    shutil.rmtree(directory)\n",
    "    os.makedirs(directory, exist_ok=True)\n",
    "    \n",
    "    for i in range(1, 28):\n",
    "        url = 'https://www.star.nesdis.noaa.gov/smcd/emb/vci/VH/get_TS_admin.php?country=UKR&provinceID={}&year1=1982&year2=2023&type=Mean'.format(i)\n",
    "        \n",
    "        try:\n",
    "            wp = urllib.request.urlopen(url)\n",
    "            text = wp.read()\n",
    "            \n",
    "            now = datetime.now()\n",
    "            date_time = now.strftime(\"%Y-%m-%d_%H-%M-%S\")\n",
    "            \n",
    "            filename = f'vhi_id={i}_{date_time}.csv'\n",
    "            \n",
    "            filepath = os.path.join(directory, filename)\n",
    "            \n",
    "            with open(filepath, 'wb') as out:\n",
    "                out.write(text)\n",
    "            \n",
    "            print(f\"VHI адмін. одиниці з індексом {i} збережено як {filename}.\")\n",
    "        except Exception as e:\n",
    "            print(f\"ПОМИЛКА ЗАВАНТАЖЕННЯ VHI адмін. одиниці з індексом {i}: {str(e)}\")\n",
    "download()"
   ]
  },
  {
   "cell_type": "markdown",
   "id": "507db41a-8aa5-4c8f-90d1-7e44d91de4b5",
   "metadata": {},
   "source": [
    "#### 2. Зчитати завантажені текстові файли у фрейм. Імена стовбців фрейму мають бути змістовними та легкими для сприйняття (не повинно бути спеціалізованих символів, пробілів тощо). Ця задача має бути реалізована у вигляді окремої процедури, яка на вхід приймає шлях до директорії, в якій зберігаються файли;"
   ]
  },
  {
   "cell_type": "code",
   "execution_count": 3,
   "id": "0b86c0fc-a8df-4902-ba8c-091c9c701c11",
   "metadata": {},
   "outputs": [
    {
     "name": "stdout",
     "output_type": "stream",
     "text": [
      "       Year  Week    SMN     SMT    VCI    TCI    VHI  Area_ID\n",
      "0      1982   2.0  0.059  255.61  16.96  85.31  51.13        1\n",
      "1      1982   3.0  0.060  258.56  16.90  74.56  45.73        1\n",
      "2      1982   4.0  0.060  261.17  16.45  63.52  39.98        1\n",
      "3      1982   5.0  0.061  263.92  15.86  53.34  34.60        1\n",
      "4      1982   6.0  0.061  266.49  14.98  47.33  31.15        1\n",
      "...     ...   ...    ...     ...    ...    ...    ...      ...\n",
      "57586  2023  48.0  0.075  264.56  24.74  45.22  34.97       27\n",
      "57587  2023  49.0  0.063  261.96  19.89  49.59  34.74       27\n",
      "57588  2023  50.0  0.054  259.66  16.73  54.24  35.49       27\n",
      "57589  2023  51.0  0.051  257.45  16.68  59.15  37.92       27\n",
      "57590  2023  52.0  0.050  256.18  19.30  61.67  40.49       27\n",
      "\n",
      "[57591 rows x 8 columns]\n"
     ]
    }
   ],
   "source": [
    "def read(directory):\n",
    "    headers = ['Year', 'Week', 'SMN', 'SMT', 'VCI', 'TCI', 'VHI', 'empty']\n",
    "    files = os.listdir(directory)\n",
    "    result_df = pd.DataFrame()\n",
    "\n",
    "    for i in range(len(files)):\n",
    "        filepath = os.path.join(directory, files[i])\n",
    "        df = pd.read_csv(filepath, header=1, names=headers, skiprows=1)  \n",
    "\n",
    "\n",
    "        df = df.dropna(subset=['VHI'])\n",
    "        df = df[df['VHI'] != -1]\n",
    "          \n",
    "        df = df.replace({'<tt>': '', '<pre>': ''})\n",
    "\n",
    "        df['Area_ID'] = i + 1\n",
    "\n",
    "        if 'empty' in df.columns:\n",
    "            df.drop('empty', axis=1, inplace=True)\n",
    "\n",
    "        if not df.empty:\n",
    "            result_df = pd.concat([result_df, df], ignore_index=True)\n",
    "\n",
    "    return result_df\n",
    "\n",
    "directory = \"VHI(lab2)\"\n",
    "df = read(directory)\n",
    "print(df)"
   ]
  },
  {
   "cell_type": "markdown",
   "id": "c00730d4-7ae0-488a-be44-590d40167a67",
   "metadata": {},
   "source": [
    "#### 3. Реалізувати процедуру, яка змінить індекси областей, які використані на порталі NOAA."
   ]
  },
  {
   "cell_type": "code",
   "execution_count": 4,
   "id": "14173ca2-e6f2-4908-a60f-fd4d2594d592",
   "metadata": {},
   "outputs": [
    {
     "name": "stdout",
     "output_type": "stream",
     "text": [
      "       Year  Week    SMN     SMT    VCI    TCI    VHI          Area_ID\n",
      "0      1982   2.0  0.059  255.61  16.96  85.31  51.13        Вінницька\n",
      "1      1982   3.0  0.060  258.56  16.90  74.56  45.73        Вінницька\n",
      "2      1982   4.0  0.060  261.17  16.45  63.52  39.98        Вінницька\n",
      "3      1982   5.0  0.061  263.92  15.86  53.34  34.60        Вінницька\n",
      "4      1982   6.0  0.061  266.49  14.98  47.33  31.15        Вінницька\n",
      "...     ...   ...    ...     ...    ...    ...    ...              ...\n",
      "57586  2023  48.0  0.075  264.56  24.74  45.22  34.97  Республіка Крим\n",
      "57587  2023  49.0  0.063  261.96  19.89  49.59  34.74  Республіка Крим\n",
      "57588  2023  50.0  0.054  259.66  16.73  54.24  35.49  Республіка Крим\n",
      "57589  2023  51.0  0.051  257.45  16.68  59.15  37.92  Республіка Крим\n",
      "57590  2023  52.0  0.050  256.18  19.30  61.67  40.49  Республіка Крим\n",
      "\n",
      "[57591 rows x 8 columns]\n"
     ]
    }
   ],
   "source": [
    "replaced = {\n",
    "    1: 'Вінницька', 2: 'Волинська', 3: 'Дніпропетровська', 4: 'Донецька',\n",
    "    5: 'Житомирська', 6: 'Закарпатська', 7: 'Запорізька', 8: 'Івано-Франківська',\n",
    "    9: 'Київська', 10: 'Кіровоградська', 11: 'Луганська', 12: 'Львівська',\n",
    "    13: 'Миколаївська', 14: 'Одеська', 15: 'Полтавська', 16: 'Рівенська',\n",
    "    17: 'Сумська', 18: 'Тернопільська', 19: 'Харківська', 20: 'Херсонська',\n",
    "    21: 'Хмельницька', 22: 'Черкаська', 23: 'Чернівецька', 24: 'Чернігівська',\n",
    "    25: 'Севастопіль' , 26: 'Київ', 27: 'Республіка Крим' }\n",
    "\n",
    "df['Area_ID'] = df['Area_ID'].replace(replaced)\n",
    "print(df)"
   ]
  },
  {
   "cell_type": "markdown",
   "id": "44ce9d3e-7165-4f4e-8b18-25d10d2f5a26",
   "metadata": {},
   "source": [
    "#### 4. Реалізувати процедури для формування вибірок наступного виду (включаючи елементи аналізу):\n",
    "#### o Ряд VHI для області за вказаний рік, пошук екстремумів (min та max);"
   ]
  },
  {
   "cell_type": "code",
   "execution_count": 5,
   "id": "734a755d-30ad-4279-b8f7-3a9f72dc5d09",
   "metadata": {},
   "outputs": [
    {
     "name": "stdin",
     "output_type": "stream",
     "text": [
      "Адміністративна одиниця:  Київ\n",
      "Рік:  2001\n"
     ]
    },
    {
     "name": "stdout",
     "output_type": "stream",
     "text": [
      "Ряд VHI для адмін. одиниці Київ у 2001 році:\n",
      "       Week    VHI\n",
      "54282   1.0  30.91\n",
      "54283   2.0  35.51\n",
      "54284   3.0  42.39\n",
      "54285   4.0  42.98\n",
      "54286   5.0  42.85\n",
      "54287   6.0  43.48\n",
      "54288   7.0  43.48\n",
      "54289   8.0  43.49\n",
      "54290   9.0  43.64\n",
      "54291  10.0  44.11\n",
      "54292  11.0  44.27\n",
      "54293  12.0  43.98\n",
      "54294  13.0  44.98\n",
      "54295  14.0  48.17\n",
      "54296  15.0  51.26\n",
      "54297  16.0  52.66\n",
      "54298  17.0  56.87\n",
      "54299  18.0  61.00\n",
      "54300  19.0  64.93\n",
      "54301  20.0  66.24\n",
      "54302  21.0  65.07\n",
      "54303  22.0  64.64\n",
      "54304  23.0  63.98\n",
      "54305  24.0  62.28\n",
      "54306  25.0  57.67\n",
      "54307  26.0  50.62\n",
      "54308  27.0  43.18\n",
      "54309  28.0  36.00\n",
      "54310  29.0  30.11\n",
      "54311  30.0  25.06\n",
      "54312  31.0  22.57\n",
      "54313  32.0  22.30\n",
      "54314  33.0  22.68\n",
      "54315  34.0  23.34\n",
      "54316  35.0  24.37\n",
      "54317  36.0  25.26\n",
      "54318  37.0  26.70\n",
      "54319  38.0  28.34\n",
      "54320  39.0  32.06\n",
      "54321  40.0  36.96\n",
      "54322  41.0  40.93\n",
      "54323  42.0  43.95\n",
      "54324  43.0  44.01\n",
      "54325  44.0  43.66\n",
      "54326  45.0  44.42\n",
      "54327  46.0  44.27\n",
      "54328  47.0  44.75\n",
      "54329  48.0  44.50\n",
      "54330  49.0  44.96\n",
      "54331  50.0  45.68\n",
      "54332  51.0  45.09\n",
      "54333  52.0  44.33\n",
      "Мінімальне значення VHI для адмін. одиниці Київ у 2001 році: 22.3\n",
      "Максимальне значення VHI для адмін. одиниці Київ у 2001 році: 66.24\n"
     ]
    }
   ],
   "source": [
    "def extremes(df, area, year):\n",
    "    min_vhi = df[(df['Area_ID'] == area) & (df['Year'] == year) & (df['VHI'] != -1)]['VHI'].min()\n",
    "    max_vhi = df[(df['Area_ID'] == area) & (df['Year'] == year) & (df['VHI'] != -1)]['VHI'].max()\n",
    "    return min_vhi, max_vhi\n",
    "    \n",
    "wanted_area = input(\"Адміністративна одиниця: \")\n",
    "wanted_year = input(\"Рік: \")\n",
    "wanted_year = str(wanted_year)\n",
    "\n",
    "min_vhi, max_vhi = extremes(df, wanted_area, wanted_year)\n",
    "\n",
    "def vhi_list(df, area, year):\n",
    "    vhi_list = df.loc[(df['Area_ID'] == area) & (df['Year'] == year), ['Week', 'VHI']]\n",
    "    return vhi_list\n",
    "vhi_list = vhi_list(df, wanted_area, wanted_year)\n",
    "\n",
    "print(f\"Ряд VHI для адмін. одиниці {wanted_area} у {wanted_year} році:\")\n",
    "print(vhi_list)\n",
    "print(f\"Мінімальне значення VHI для адмін. одиниці {wanted_area} у {wanted_year} році: {min_vhi}\")\n",
    "print(f\"Максимальне значення VHI для адмін. одиниці {wanted_area} у {wanted_year} році: {max_vhi}\")"
   ]
  },
  {
   "cell_type": "markdown",
   "id": "f4458fe7-85f7-4243-96f4-3eb60a4aa94d",
   "metadata": {},
   "source": [
    "#### o Ряд VHI за вказаний діапазон років для вказаних областей; виявити роки, протягом яких екстремальні посухи торкнулися більше вказаного відсотка областей по Україні (20% областей - 5 областей з 25);"
   ]
  },
  {
   "cell_type": "code",
   "execution_count": 6,
   "id": "36e04706-7146-4aef-bbc7-149c236b0879",
   "metadata": {},
   "outputs": [
    {
     "name": "stdin",
     "output_type": "stream",
     "text": [
      "Введіть адміністративні одиниці:  Київ,Донецька,Луганська\n",
      "Введіть початковий рік:  2010\n",
      "Введіть кінцевий рік:  2022\n"
     ]
    },
    {
     "name": "stdout",
     "output_type": "stream",
     "text": [
      "Ряд VHI за діапазон років 2010 - 2022 для вказаних адмін. одиниць:\n",
      "      Week    VHI  Year       Area\n",
      "0      1.0  41.65  2010       Київ\n",
      "1      2.0  42.20  2010       Київ\n",
      "2      3.0  42.91  2010       Київ\n",
      "3      4.0  44.20  2010       Київ\n",
      "4      5.0  45.37  2010       Київ\n",
      "...    ...    ...   ...        ...\n",
      "2023  48.0  47.74  2022  Луганська\n",
      "2024  49.0  46.93  2022  Луганська\n",
      "2025  50.0  46.14  2022  Луганська\n",
      "2026  51.0  47.72  2022  Луганська\n",
      "2027  52.0  49.82  2022  Луганська\n",
      "\n",
      "[2028 rows x 4 columns]\n"
     ]
    },
    {
     "name": "stdin",
     "output_type": "stream",
     "text": [
      "Введіть пороговий відсоток території,затронутої засухами:  20\n"
     ]
    },
    {
     "name": "stdout",
     "output_type": "stream",
     "text": [
      "Роки, коли ексримальні засухи затронули більше 20.0% областей:\n",
      "['2007']\n"
     ]
    }
   ],
   "source": [
    "def vhi_list(df, areas, start_year, end_year):\n",
    "    result = pd.DataFrame()\n",
    "    \n",
    "    for area in areas:\n",
    "        area_data = pd.DataFrame() \n",
    "        \n",
    "        for year in range(start_year, end_year + 1):\n",
    "            vhi_list = df.loc[(df['Area_ID'] == area) & (df['Year'] == str(year)), ['Week', 'VHI']]    \n",
    "            vhi_list['Year'] = year\n",
    "            vhi_list['Area'] = area      \n",
    "            area_data = pd.concat([area_data, vhi_list], ignore_index=True)     \n",
    "        result = pd.concat([result, area_data], ignore_index=True)    \n",
    "    return result\n",
    "\n",
    "selected_areas = input(\"Введіть адміністративні одиниці: \").split(',')\n",
    "year1 = int(input(\"Введіть початковий рік: \"))\n",
    "year2 = int(input(\"Введіть кінцевий рік: \"))\n",
    "\n",
    "vhi_range_result = vhi_list(df, selected_areas, year1, year2)\n",
    "\n",
    "print(f\"Ряд VHI за діапазон років {year1} - {year2} для вказаних адмін. одиниць:\")\n",
    "print(vhi_range_result)\n",
    "\n",
    "\n",
    "def drought_years(df, threshold_percentage):\n",
    "    drought_years = []\n",
    "    \n",
    "    df_drought = df[(df['VHI'] <= 15) & (df['VHI'] != -1)]\n",
    "    \n",
    "    for year in df_drought['Year'].unique():\n",
    "        df_year = df_drought[df_drought['Year'] == year]\n",
    "        total_areas = df[df['Year'] == year]['Area_ID'].nunique()\n",
    "\n",
    "        for area in df_year['Area_ID'].unique():\n",
    "            df_area = df_year[df_year['Area_ID'] == area]\n",
    "            drought_weeks = df_area['Week'].nunique()\n",
    "            percentage = (drought_weeks / 52) * 100\n",
    "            \n",
    "            if percentage >= threshold_percentage:\n",
    "                drought_years.append(year)\n",
    "                break\n",
    "    \n",
    "    return drought_years\n",
    "\n",
    "threshold_percentage = float(input(\"Введіть пороговий відсоток території,затронутої засухами: \"))\n",
    "drought_years_result = drought_years(df, threshold_percentage)\n",
    "\n",
    "print(f\"Роки, коли ексримальні засухи затронули більше {threshold_percentage}% областей:\")\n",
    "print(drought_years_result)"
   ]
  },
  {
   "cell_type": "markdown",
   "id": "1d087fcc-103f-44e1-ba7a-5787662de04e",
   "metadata": {},
   "source": [
    "#### o Аналогічно для помірних посух"
   ]
  },
  {
   "cell_type": "code",
   "execution_count": 7,
   "id": "d0435412-df8b-4066-adc2-7581f28f8772",
   "metadata": {},
   "outputs": [
    {
     "name": "stdin",
     "output_type": "stream",
     "text": [
      "Введіть пороговий відсоток території, затронутої помірними посухами:  15\n"
     ]
    },
    {
     "name": "stdout",
     "output_type": "stream",
     "text": [
      "Роки, в яких помірні посухи затронули більше 15.0% областей:\n",
      "['1982', '1983', '1984', '1985', '1986', '1987', '1988', '1989', '1990', '1991', '1992', '1993', '1994', '1995', '1996', '1997', '1998', '1999', '2000', '2001', '2013', '2014', '2018', '2019', '2023', '2002', '2015', '2016', '2003', '2005', '2006', '2007', '2008', '2009', '2010', '2011', '2012', '2017', '2020', '2022']\n"
     ]
    }
   ],
   "source": [
    "def light_drought_years(df, threshold_percentage):\n",
    "    light_drought_years = []\n",
    "    df_light_drought = df[(df['VHI'] > 15) & (df['VHI'] <= 35)]\n",
    "\n",
    "    for year in df_light_drought['Year'].unique():\n",
    "        df_year = df_light_drought[df_light_drought['Year'] == year]\n",
    "        total_areas = df[df['Year'] == year]['Area_ID'].nunique()\n",
    "        \n",
    "        for area in df_year['Area_ID'].unique():\n",
    "            df_area = df_year[df_year['Area_ID'] == area]\n",
    "            light_drought_weeks = df_area['Week'].nunique()\n",
    "            percentage = (light_drought_weeks / 52) * 100\n",
    "\n",
    "            if percentage >= threshold_percentage:\n",
    "                light_drought_years.append(year)\n",
    "                break\n",
    "    \n",
    "    return light_drought_years\n",
    "\n",
    "threshold_percentage = float(input(\"Введіть пороговий відсоток території, затронутої помірними посухами: \"))\n",
    "light_drought_years_result = light_drought_years(df, threshold_percentage)\n",
    "\n",
    "print(f\"Роки, в яких помірні посухи затронули більше {threshold_percentage}% областей:\")\n",
    "print(light_drought_years_result)\n"
   ]
  }
 ],
 "metadata": {
  "kernelspec": {
   "display_name": "Python 3 (ipykernel)",
   "language": "python",
   "name": "python3"
  },
  "language_info": {
   "codemirror_mode": {
    "name": "ipython",
    "version": 3
   },
   "file_extension": ".py",
   "mimetype": "text/x-python",
   "name": "python",
   "nbconvert_exporter": "python",
   "pygments_lexer": "ipython3",
   "version": "3.10.7"
  }
 },
 "nbformat": 4,
 "nbformat_minor": 5
}
