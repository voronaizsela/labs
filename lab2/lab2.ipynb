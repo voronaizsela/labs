{
 "cells": [
  {
   "cell_type": "markdown",
   "id": "4eea878b-8368-4e01-b53c-459df6f4a13a",
   "metadata": {},
   "source": [
    "# Лабораторна робота No2\n",
    "## Наука про дані: підготовчий етап\n",
    "\n",
    "### Мета роботи: ознайомитися з основними кроками по роботі з даними – workflow від постановки задачі до написання пояснювальної записки, зрозуміти постановку задачі."
   ]
  },
  {
   "cell_type": "code",
   "execution_count": 1,
   "id": "614d8a06-ce30-4e64-808c-365773b7a8b7",
   "metadata": {},
   "outputs": [
    {
     "name": "stdout",
     "output_type": "stream",
     "text": [
      "Завантажено.\n"
     ]
    }
   ],
   "source": [
    "import os\n",
    "import pandas as pd\n",
    "import urllib.request\n",
    "from datetime import datetime\n",
    "import numpy as np\n",
    "import shutil\n",
    "print(\"Завантажено.\")"
   ]
  },
  {
   "cell_type": "markdown",
   "id": "e2dab5bc-6ca1-40ee-91e3-e0ab766dee9a",
   "metadata": {},
   "source": [
    "#### 1. Для кожної із адміністративних одиниць України завантажити тестові структуровані файли, що містять значення VHI-індексу. Ця процедура має бути автоматизована, параметром процедури має бути індекс (номер) області. При зберіганні файлу до його імені потрібно додати дату та час завантаження."
   ]
  },
  {
   "cell_type": "code",
   "execution_count": 2,
   "id": "a0f48214-18b5-4119-b1d7-fc4f965dd6e4",
   "metadata": {},
   "outputs": [
    {
     "name": "stdout",
     "output_type": "stream",
     "text": [
      "VHI адмін. одиниці з індексом 1 збережено як vhi_id=1_2024-03-22_10-48-55.csv.\n",
      "VHI адмін. одиниці з індексом 2 збережено як vhi_id=2_2024-03-22_10-48-56.csv.\n",
      "VHI адмін. одиниці з індексом 3 збережено як vhi_id=3_2024-03-22_10-48-57.csv.\n",
      "VHI адмін. одиниці з індексом 4 збережено як vhi_id=4_2024-03-22_10-48-58.csv.\n",
      "VHI адмін. одиниці з індексом 5 збережено як vhi_id=5_2024-03-22_10-48-59.csv.\n",
      "VHI адмін. одиниці з індексом 6 збережено як vhi_id=6_2024-03-22_10-49-00.csv.\n",
      "VHI адмін. одиниці з індексом 7 збережено як vhi_id=7_2024-03-22_10-49-01.csv.\n",
      "VHI адмін. одиниці з індексом 8 збережено як vhi_id=8_2024-03-22_10-49-01.csv.\n",
      "VHI адмін. одиниці з індексом 9 збережено як vhi_id=9_2024-03-22_10-49-02.csv.\n",
      "VHI адмін. одиниці з індексом 10 збережено як vhi_id=10_2024-03-22_10-49-03.csv.\n",
      "VHI адмін. одиниці з індексом 11 збережено як vhi_id=11_2024-03-22_10-49-04.csv.\n",
      "VHI адмін. одиниці з індексом 12 збережено як vhi_id=12_2024-03-22_10-49-05.csv.\n",
      "VHI адмін. одиниці з індексом 13 збережено як vhi_id=13_2024-03-22_10-49-06.csv.\n",
      "VHI адмін. одиниці з індексом 14 збережено як vhi_id=14_2024-03-22_10-49-07.csv.\n",
      "VHI адмін. одиниці з індексом 15 збережено як vhi_id=15_2024-03-22_10-49-07.csv.\n",
      "VHI адмін. одиниці з індексом 16 збережено як vhi_id=16_2024-03-22_10-49-08.csv.\n",
      "VHI адмін. одиниці з індексом 17 збережено як vhi_id=17_2024-03-22_10-49-09.csv.\n",
      "VHI адмін. одиниці з індексом 18 збережено як vhi_id=18_2024-03-22_10-49-10.csv.\n",
      "VHI адмін. одиниці з індексом 19 збережено як vhi_id=19_2024-03-22_10-49-11.csv.\n",
      "VHI адмін. одиниці з індексом 20 збережено як vhi_id=20_2024-03-22_10-49-12.csv.\n",
      "VHI адмін. одиниці з індексом 21 збережено як vhi_id=21_2024-03-22_10-49-13.csv.\n",
      "VHI адмін. одиниці з індексом 22 збережено як vhi_id=22_2024-03-22_10-49-13.csv.\n",
      "VHI адмін. одиниці з індексом 23 збережено як vhi_id=23_2024-03-22_10-49-14.csv.\n",
      "VHI адмін. одиниці з індексом 24 збережено як vhi_id=24_2024-03-22_10-49-15.csv.\n",
      "VHI адмін. одиниці з індексом 25 збережено як vhi_id=25_2024-03-22_10-49-16.csv.\n",
      "VHI адмін. одиниці з індексом 26 збережено як vhi_id=26_2024-03-22_10-49-18.csv.\n",
      "VHI адмін. одиниці з індексом 27 збережено як vhi_id=27_2024-03-22_10-49-21.csv.\n"
     ]
    }
   ],
   "source": [
    "import ssl\n",
    "ssl._create_default_https_context = ssl._create_unverified_context\n",
    "\n",
    "def download():\n",
    "    directory = 'VHI(lab2)'\n",
    "\n",
    "    shutil.rmtree(directory)\n",
    "    os.makedirs(directory, exist_ok=True)\n",
    "    \n",
    "    for i in range(1, 28):\n",
    "        url = 'https://www.star.nesdis.noaa.gov/smcd/emb/vci/VH/get_TS_admin.php?country=UKR&provinceID={}&year1=1982&year2=2023&type=Mean'.format(i)\n",
    "        \n",
    "        try:\n",
    "            wp = urllib.request.urlopen(url)\n",
    "            text = wp.read()\n",
    "            \n",
    "            now = datetime.now()\n",
    "            date_time = now.strftime(\"%Y-%m-%d_%H-%M-%S\")\n",
    "            \n",
    "            filename = f'vhi_id={i}_{date_time}.csv'\n",
    "            \n",
    "            filepath = os.path.join(directory, filename)\n",
    "            \n",
    "            with open(filepath, 'wb') as out:\n",
    "                out.write(text)\n",
    "            \n",
    "            print(f\"VHI адмін. одиниці з індексом {i} збережено як {filename}.\")\n",
    "        except Exception as e:\n",
    "            print(f\"ПОМИЛКА ЗАВАНТАЖЕННЯ VHI адмін. одиниці з індексом {i}: {str(e)}\")\n",
    "download()"
   ]
  },
  {
   "cell_type": "markdown",
   "id": "507db41a-8aa5-4c8f-90d1-7e44d91de4b5",
   "metadata": {},
   "source": [
    "#### 2. Зчитати завантажені текстові файли у фрейм. Імена стовбців фрейму мають бути змістовними та легкими для сприйняття (не повинно бути спеціалізованих символів, пробілів тощо). Ця задача має бути реалізована у вигляді окремої процедури, яка на вхід приймає шлях до директорії, в якій зберігаються файли;"
   ]
  },
  {
   "cell_type": "code",
   "execution_count": 3,
   "id": "0b86c0fc-a8df-4902-ba8c-091c9c701c11",
   "metadata": {},
   "outputs": [
    {
     "name": "stdout",
     "output_type": "stream",
     "text": [
      "       Year  Week    SMN     SMT    VCI    TCI    VHI  Area_ID\n",
      "0      1982   2.0  0.034  251.07  40.82  71.85  56.33        1\n",
      "1      1982   3.0  0.032  252.56  38.21  64.53  51.37        1\n",
      "2      1982   4.0  0.030  254.76  32.74  55.45  44.10        1\n",
      "3      1982   5.0  0.027  256.18  26.61  53.62  40.12        1\n",
      "4      1982   6.0  0.025  256.78  20.92  56.90  38.91        1\n",
      "...     ...   ...    ...     ...    ...    ...    ...      ...\n",
      "57586  2023  48.0  0.077  263.87  40.72  50.93  45.82       27\n",
      "57587  2023  49.0  0.067  262.62  37.92  52.13  45.02       27\n",
      "57588  2023  50.0  0.062  261.76  38.51  49.47  43.99       27\n",
      "57589  2023  51.0  0.058  261.06  40.45  45.06  42.76       27\n",
      "57590  2023  52.0  0.056  260.25  41.33  43.52  42.43       27\n",
      "\n",
      "[57591 rows x 8 columns]\n"
     ]
    }
   ],
   "source": [
    "def read(directory):\n",
    "    headers = ['Year', 'Week', 'SMN', 'SMT', 'VCI', 'TCI', 'VHI', 'empty']\n",
    "    files = os.listdir(directory)\n",
    "    result_df = pd.DataFrame()\n",
    "\n",
    "    for i in range(len(files)):\n",
    "        filepath = os.path.join(directory, files[i])\n",
    "        df = pd.read_csv(filepath, header=1, names=headers, skiprows=1)  \n",
    "\n",
    "\n",
    "        df = df.dropna(subset=['VHI'])\n",
    "        df = df[df['VHI'] != -1]\n",
    "          \n",
    "        df = df.replace({'<tt>': '', '<pre>': ''})\n",
    "\n",
    "        df['Area_ID'] = i + 1\n",
    "\n",
    "        if 'empty' in df.columns:\n",
    "            df.drop('empty', axis=1, inplace=True)\n",
    "\n",
    "        if not df.empty:\n",
    "            result_df = pd.concat([result_df, df], ignore_index=True)\n",
    "\n",
    "    return result_df\n",
    "\n",
    "directory = \"VHI(lab2)\"\n",
    "df = read(directory)\n",
    "print(df)"
   ]
  },
  {
   "cell_type": "markdown",
   "id": "c00730d4-7ae0-488a-be44-590d40167a67",
   "metadata": {},
   "source": [
    "#### 3. Реалізувати процедуру, яка змінить індекси областей, які використані на порталі NOAA."
   ]
  },
  {
   "cell_type": "code",
   "execution_count": 4,
   "id": "14173ca2-e6f2-4908-a60f-fd4d2594d592",
   "metadata": {},
   "outputs": [
    {
     "name": "stdout",
     "output_type": "stream",
     "text": [
      "       Year  Week    SMN     SMT    VCI    TCI    VHI          Area_ID\n",
      "0      1982   2.0  0.034  251.07  40.82  71.85  56.33        Вінницька\n",
      "1      1982   3.0  0.032  252.56  38.21  64.53  51.37        Вінницька\n",
      "2      1982   4.0  0.030  254.76  32.74  55.45  44.10        Вінницька\n",
      "3      1982   5.0  0.027  256.18  26.61  53.62  40.12        Вінницька\n",
      "4      1982   6.0  0.025  256.78  20.92  56.90  38.91        Вінницька\n",
      "...     ...   ...    ...     ...    ...    ...    ...              ...\n",
      "57586  2023  48.0  0.077  263.87  40.72  50.93  45.82  Республіка Крим\n",
      "57587  2023  49.0  0.067  262.62  37.92  52.13  45.02  Республіка Крим\n",
      "57588  2023  50.0  0.062  261.76  38.51  49.47  43.99  Республіка Крим\n",
      "57589  2023  51.0  0.058  261.06  40.45  45.06  42.76  Республіка Крим\n",
      "57590  2023  52.0  0.056  260.25  41.33  43.52  42.43  Республіка Крим\n",
      "\n",
      "[57591 rows x 8 columns]\n"
     ]
    }
   ],
   "source": [
    "replaced = {\n",
    "    1: 'Вінницька', 2: 'Волинська', 3: 'Дніпропетровська', 4: 'Донецька',\n",
    "    5: 'Житомирська', 6: 'Закарпатська', 7: 'Запорізька', 8: 'Івано-Франківська',\n",
    "    9: 'Київська', 10: 'Кіровоградська', 11: 'Луганська', 12: 'Львівська',\n",
    "    13: 'Миколаївська', 14: 'Одеська', 15: 'Полтавська', 16: 'Рівенська',\n",
    "    17: 'Сумська', 18: 'Тернопільська', 19: 'Харківська', 20: 'Херсонська',\n",
    "    21: 'Хмельницька', 22: 'Черкаська', 23: 'Чернівецька', 24: 'Чернігівська',\n",
    "    25: 'Севастопіль' , 26: 'Київ', 27: 'Республіка Крим' }\n",
    "\n",
    "df['Area_ID'] = df['Area_ID'].replace(replaced)\n",
    "print(df)"
   ]
  },
  {
   "cell_type": "markdown",
   "id": "44ce9d3e-7165-4f4e-8b18-25d10d2f5a26",
   "metadata": {},
   "source": [
    "#### 4. Реалізувати процедури для формування вибірок наступного виду (включаючи елементи аналізу):\n",
    "#### o Ряд VHI для області за вказаний рік, пошук екстремумів (min та max);"
   ]
  },
  {
   "cell_type": "code",
   "execution_count": 5,
   "id": "734a755d-30ad-4279-b8f7-3a9f72dc5d09",
   "metadata": {},
   "outputs": [
    {
     "name": "stdin",
     "output_type": "stream",
     "text": [
      "Адміністративна одиниця:  Київ\n",
      "Рік:  2022\n"
     ]
    },
    {
     "name": "stdout",
     "output_type": "stream",
     "text": [
      "Ряд VHI для адмін. одиниці Київ у 2022 році:\n",
      "       Week    VHI\n",
      "55354   1.0  47.18\n",
      "55355   2.0  46.85\n",
      "55356   3.0  47.25\n",
      "55357   4.0  50.95\n",
      "55358   5.0  52.17\n",
      "55359   6.0  50.15\n",
      "55360   7.0  47.69\n",
      "55361   8.0  46.05\n",
      "55362   9.0  43.81\n",
      "55363  10.0  44.73\n",
      "55364  11.0  45.25\n",
      "55365  12.0  44.57\n",
      "55366  13.0  44.52\n",
      "55367  14.0  44.39\n",
      "55368  15.0  45.31\n",
      "55369  16.0  46.48\n",
      "55370  17.0  48.97\n",
      "55371  18.0  51.48\n",
      "55372  19.0  49.87\n",
      "55373  20.0  49.02\n",
      "55374  21.0  46.74\n",
      "55375  22.0  42.65\n",
      "55376  23.0  42.50\n",
      "55377  24.0  41.36\n",
      "55378  25.0  40.66\n",
      "55379  26.0  40.96\n",
      "55380  27.0  43.06\n",
      "55381  28.0  47.24\n",
      "55382  29.0  50.94\n",
      "55383  30.0  54.63\n",
      "55384  31.0  55.37\n",
      "55385  32.0  55.41\n",
      "55386  33.0  55.09\n",
      "55387  34.0  53.32\n",
      "55388  35.0  51.84\n",
      "55389  36.0  51.15\n",
      "55390  37.0  50.43\n",
      "55391  38.0  49.56\n",
      "55392  39.0  46.98\n",
      "55393  40.0  47.02\n",
      "55394  41.0  46.55\n",
      "55395  42.0  40.29\n",
      "55396  43.0  36.06\n",
      "55397  44.0  32.05\n",
      "55398  45.0  29.62\n",
      "55399  46.0  31.95\n",
      "55400  47.0  35.43\n",
      "55401  48.0  40.12\n",
      "55402  49.0  42.05\n",
      "55403  50.0  41.30\n",
      "55404  51.0  39.95\n",
      "55405  52.0  38.27\n",
      "Мінімальне значення VHI для адмін. одиниці Київ у 2022 році: 29.62\n",
      "Максимальне значення VHI для адмін. одиниці Київ у 2022 році: 55.41\n"
     ]
    }
   ],
   "source": [
    "def extremes(df, area, year):\n",
    "    min_vhi = df[(df['Area_ID'] == area) & (df['Year'] == year) & (df['VHI'] != -1)]['VHI'].min()\n",
    "    max_vhi = df[(df['Area_ID'] == area) & (df['Year'] == year) & (df['VHI'] != -1)]['VHI'].max()\n",
    "    return min_vhi, max_vhi\n",
    "    \n",
    "wanted_area = input(\"Адміністративна одиниця: \")\n",
    "wanted_year = input(\"Рік: \")\n",
    "wanted_year = str(wanted_year)\n",
    "\n",
    "min_vhi, max_vhi = extremes(df, wanted_area, wanted_year)\n",
    "\n",
    "def vhi_list(df, area, year):\n",
    "    vhi_list = df.loc[(df['Area_ID'] == area) & (df['Year'] == year), ['Week', 'VHI']]\n",
    "    return vhi_list\n",
    "vhi_list = vhi_list(df, wanted_area, wanted_year)\n",
    "\n",
    "print(f\"Ряд VHI для адмін. одиниці {wanted_area} у {wanted_year} році:\")\n",
    "print(vhi_list)\n",
    "print(f\"Мінімальне значення VHI для адмін. одиниці {wanted_area} у {wanted_year} році: {min_vhi}\")\n",
    "print(f\"Максимальне значення VHI для адмін. одиниці {wanted_area} у {wanted_year} році: {max_vhi}\")"
   ]
  },
  {
   "cell_type": "markdown",
   "id": "f4458fe7-85f7-4243-96f4-3eb60a4aa94d",
   "metadata": {},
   "source": [
    "#### o Ряд VHI за вказаний діапазон років для вказаних областей; виявити роки, протягом яких екстремальні посухи торкнулися більше вказаного відсотка областей по Україні (20% областей - 5 областей з 25);"
   ]
  },
  {
   "cell_type": "code",
   "execution_count": 6,
   "id": "36e04706-7146-4aef-bbc7-149c236b0879",
   "metadata": {},
   "outputs": [
    {
     "name": "stdin",
     "output_type": "stream",
     "text": [
      "Введіть адміністративні одиниці:  Донецька,Севастопіль,Республіка Крим\n",
      "Введіть початковий рік:  2006\n",
      "Введіть кінцевий рік:  2012\n"
     ]
    },
    {
     "name": "stdout",
     "output_type": "stream",
     "text": [
      "Ряд VHI за діапазон років 2006 - 2012 для вказаних адмін. одиниць:\n",
      "      Week    VHI  Year             Area\n",
      "0      1.0  49.96  2006         Донецька\n",
      "1      2.0  49.88  2006         Донецька\n",
      "2      3.0  49.45  2006         Донецька\n",
      "3      4.0  48.54  2006         Донецька\n",
      "4      5.0  46.88  2006         Донецька\n",
      "...    ...    ...   ...              ...\n",
      "1087  48.0  47.63  2012  Республіка Крим\n",
      "1088  49.0  50.77  2012  Республіка Крим\n",
      "1089  50.0  53.09  2012  Республіка Крим\n",
      "1090  51.0  51.17  2012  Республіка Крим\n",
      "1091  52.0  48.78  2012  Республіка Крим\n",
      "\n",
      "[1092 rows x 4 columns]\n"
     ]
    },
    {
     "name": "stdin",
     "output_type": "stream",
     "text": [
      "Введіть пороговий відсоток території,затронутої засухами:  1\n"
     ]
    },
    {
     "name": "stdout",
     "output_type": "stream",
     "text": [
      "Роки, коли ексримальні засухи затронули більше 1.0% областей:\n",
      "['1986', '1993', '2000', '2007', '1984', '1994', '2012', '2003', '1999']\n"
     ]
    }
   ],
   "source": [
    "def vhi_list(df, areas, start_year, end_year):\n",
    "    result = pd.DataFrame()\n",
    "    \n",
    "    for area in areas:\n",
    "        area_data = pd.DataFrame() \n",
    "        \n",
    "        for year in range(start_year, end_year + 1):\n",
    "            vhi_list = df.loc[(df['Area_ID'] == area) & (df['Year'] == str(year)), ['Week', 'VHI']]    \n",
    "            vhi_list['Year'] = year\n",
    "            vhi_list['Area'] = area      \n",
    "            area_data = pd.concat([area_data, vhi_list], ignore_index=True)     \n",
    "        result = pd.concat([result, area_data], ignore_index=True)    \n",
    "    return result\n",
    "\n",
    "selected_areas = input(\"Введіть адміністративні одиниці: \").split(',')\n",
    "year1 = int(input(\"Введіть початковий рік: \"))\n",
    "year2 = int(input(\"Введіть кінцевий рік: \"))\n",
    "\n",
    "vhi_range_result = vhi_list(df, selected_areas, year1, year2)\n",
    "\n",
    "print(f\"Ряд VHI за діапазон років {year1} - {year2} для вказаних адмін. одиниць:\")\n",
    "print(vhi_range_result)\n",
    "\n",
    "\n",
    "def drought_years(df, threshold_percentage):\n",
    "    drought_years = []\n",
    "    \n",
    "    df_drought = df[(df['VHI'] <= 15) & (df['VHI'] != -1)]\n",
    "    \n",
    "    for year in df_drought['Year'].unique():\n",
    "        df_year = df_drought[df_drought['Year'] == year]\n",
    "        total_areas = df[df['Year'] == year]['Area_ID'].nunique()\n",
    "\n",
    "        for area in df_year['Area_ID'].unique():\n",
    "            df_area = df_year[df_year['Area_ID'] == area]\n",
    "            drought_weeks = df_area['Week'].nunique()\n",
    "            percentage = (drought_weeks / 52) * 100\n",
    "            \n",
    "            if percentage >= threshold_percentage:\n",
    "                drought_years.append(year)\n",
    "                break\n",
    "    \n",
    "    return drought_years\n",
    "\n",
    "threshold_percentage = float(input(\"Введіть пороговий відсоток території,затронутої засухами: \"))\n",
    "drought_years_result = drought_years(df, threshold_percentage)\n",
    "\n",
    "print(f\"Роки, коли ексримальні засухи затронули більше {threshold_percentage}% областей:\")\n",
    "print(drought_years_result)"
   ]
  },
  {
   "cell_type": "markdown",
   "id": "1d087fcc-103f-44e1-ba7a-5787662de04e",
   "metadata": {},
   "source": [
    "#### o Аналогічно для помірних посух"
   ]
  },
  {
   "cell_type": "code",
   "execution_count": 7,
   "id": "d0435412-df8b-4066-adc2-7581f28f8772",
   "metadata": {},
   "outputs": [
    {
     "name": "stdin",
     "output_type": "stream",
     "text": [
      "Введіть пороговий відсоток території, затронутої помірними посухами:  3\n"
     ]
    },
    {
     "name": "stdout",
     "output_type": "stream",
     "text": [
      "Роки, в яких помірні посухи затронули більше 3.0% областей:\n",
      "['1982', '1983', '1984', '1985', '1986', '1987', '1988', '1989', '1990', '1991', '1992', '1993', '1994', '1995', '1996', '1997', '1999', '2000', '2002', '2003', '2006', '2007', '2008', '2010', '2011', '2012', '2015', '2017', '2018', '2019', '2020', '2021', '2023', '2001', '2009', '2016', '2013', '2004', '1998', '2005', '2014', '2022']\n"
     ]
    }
   ],
   "source": [
    "def light_drought_years(df, threshold_percentage):\n",
    "    light_drought_years = []\n",
    "    df_light_drought = df[(df['VHI'] > 15) & (df['VHI'] <= 35)]\n",
    "\n",
    "    for year in df_light_drought['Year'].unique():\n",
    "        df_year = df_light_drought[df_light_drought['Year'] == year]\n",
    "        total_areas = df[df['Year'] == year]['Area_ID'].nunique()\n",
    "        \n",
    "        for area in df_year['Area_ID'].unique():\n",
    "            df_area = df_year[df_year['Area_ID'] == area]\n",
    "            light_drought_weeks = df_area['Week'].nunique()\n",
    "            percentage = (light_drought_weeks / 52) * 100\n",
    "\n",
    "            if percentage >= threshold_percentage:\n",
    "                light_drought_years.append(year)\n",
    "                break\n",
    "    \n",
    "    return light_drought_years\n",
    "\n",
    "threshold_percentage = float(input(\"Введіть пороговий відсоток території, затронутої помірними посухами: \"))\n",
    "light_drought_years_result = light_drought_years(df, threshold_percentage)\n",
    "\n",
    "print(f\"Роки, в яких помірні посухи затронули більше {threshold_percentage}% областей:\")\n",
    "print(light_drought_years_result)\n"
   ]
  }
 ],
 "metadata": {
  "kernelspec": {
   "display_name": "Python 3 (ipykernel)",
   "language": "python",
   "name": "python3"
  },
  "language_info": {
   "codemirror_mode": {
    "name": "ipython",
    "version": 3
   },
   "file_extension": ".py",
   "mimetype": "text/x-python",
   "name": "python",
   "nbconvert_exporter": "python",
   "pygments_lexer": "ipython3",
   "version": "3.10.7"
  }
 },
 "nbformat": 4,
 "nbformat_minor": 5
}
