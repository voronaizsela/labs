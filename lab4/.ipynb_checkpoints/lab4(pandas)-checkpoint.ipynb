{
 "cells": [
  {
   "cell_type": "markdown",
   "id": "77a96b2f-210e-4b8f-b79f-41958e713e77",
   "metadata": {},
   "source": [
    "# Лабораторна робота No4 (pandas)\n",
    "## ФБ-21 Тютюннікова Віолета\n",
    "### Структури для роботи з великими обсягами даних в Python\n",
    "### *Мета: отримати навички роботи із структурами для зберігання в Python (python, numpy, pandas, numpy array, dataframe, timeit)*\n",
    "----\n",
    "## ( 1 РІВЕНЬ)\n",
    "----"
   ]
  },
  {
   "cell_type": "code",
   "execution_count": 4,
   "id": "19f3f0bc-4aa7-46da-be63-7433128e1f3b",
   "metadata": {},
   "outputs": [],
   "source": [
    "import pandas as pd\n",
    "import timeit"
   ]
  },
  {
   "cell_type": "markdown",
   "id": "57856364-d445-45d3-8c2f-1c387aea5b7e",
   "metadata": {},
   "source": [
    "#### Працюватимемо з датафреймом \"Individual household electric power consumption Data Set\""
   ]
  },
  {
   "cell_type": "code",
   "execution_count": 3,
   "id": "fcd6a711-5c79-408c-bd56-ac24d18eaf5a",
   "metadata": {},
   "outputs": [
    {
     "name": "stdout",
     "output_type": "stream",
     "text": [
      "         date      time global_active_power global_reactive_power  voltage  \\\n",
      "0  16/12/2006  17:24:00               4.216                 0.418  234.840   \n",
      "1  16/12/2006  17:25:00               5.360                 0.436  233.630   \n",
      "2  16/12/2006  17:26:00               5.374                 0.498  233.290   \n",
      "3  16/12/2006  17:27:00               5.388                 0.502  233.740   \n",
      "4  16/12/2006  17:28:00               3.666                 0.528  235.680   \n",
      "\n",
      "  global_intensity sub_metering_1 sub_metering_2  sub_metering_3  \n",
      "0           18.400          0.000          1.000            17.0  \n",
      "1           23.000          0.000          1.000            16.0  \n",
      "2           23.000          0.000          2.000            17.0  \n",
      "3           23.000          0.000          1.000            17.0  \n",
      "4           15.800          0.000          1.000            17.0  \n"
     ]
    },
    {
     "name": "stderr",
     "output_type": "stream",
     "text": [
      "/var/folders/sb/sl366d996ss4kv01f83k587h0000gn/T/ipykernel_68352/3218086499.py:2: DtypeWarning: Columns (2,3,4,5,6,7) have mixed types. Specify dtype option on import or set low_memory=False.\n",
      "  df = pd.read_csv('household_power_consumption.txt', sep=';', header=0, names= names)\n"
     ]
    }
   ],
   "source": [
    "names = ['date', 'time', 'global_active_power', 'global_reactive_power', 'voltage', 'global_intensity', 'sub_metering_1', 'sub_metering_2', 'sub_metering_3']\n",
    "df = pd.read_csv('household_power_consumption.txt', sep=';', header=0, names= names)\n",
    "print(df.head())"
   ]
  },
  {
   "cell_type": "code",
   "execution_count": null,
   "id": "42e2397b-9c1d-48d8-b5b9-1cf218e1422c",
   "metadata": {},
   "outputs": [],
   "source": []
  }
 ],
 "metadata": {
  "kernelspec": {
   "display_name": "Python 3 (ipykernel)",
   "language": "python",
   "name": "python3"
  },
  "language_info": {
   "codemirror_mode": {
    "name": "ipython",
    "version": 3
   },
   "file_extension": ".py",
   "mimetype": "text/x-python",
   "name": "python",
   "nbconvert_exporter": "python",
   "pygments_lexer": "ipython3",
   "version": "3.10.7"
  }
 },
 "nbformat": 4,
 "nbformat_minor": 5
}
