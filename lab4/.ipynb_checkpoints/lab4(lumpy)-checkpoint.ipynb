{
 "cells": [
  {
   "cell_type": "markdown",
   "id": "6abeca59-6012-40a2-8da0-1d32e23241b3",
   "metadata": {},
   "source": [
    "# Лабораторна робота No4 (numpy)\n",
    "## ФБ-21 Тютюннікова Віолета\n",
    "### Структури для роботи з великими обсягами даних в Python\n",
    "### *Мета: отримати навички роботи із структурами для зберігання в Python (python, numpy, pandas, numpy array, dataframe, timeit)*\n",
    "----\n",
    "## ( 1 РІВЕНЬ)\n",
    "----"
   ]
  },
  {
   "cell_type": "code",
   "execution_count": 25,
   "id": "03ee6ddb-5c3e-4fb5-ae79-545b9403e9b6",
   "metadata": {},
   "outputs": [],
   "source": [
    "import numpy as np\n",
    "import timeit"
   ]
  },
  {
   "cell_type": "markdown",
   "id": "7b528777-9ab1-4fed-9b02-ca79719332c0",
   "metadata": {},
   "source": [
    "#### Працюватимемо з датафреймом \"Individual household electric power consumption Data Set\""
   ]
  },
  {
   "cell_type": "code",
   "execution_count": null,
   "id": "79d13c69-c3bc-4598-9e8b-739ccd6a1f20",
   "metadata": {},
   "outputs": [],
   "source": [
    "start = timeit.default_timer()\n",
    "names = ['date', 'time', 'global_active_power', 'global_reactive_power', 'voltage', 'global_intensity', 'sub_metering_1', 'sub_metering_2', 'sub_metering_3']\n",
    "\n",
    "# Читаем данные с помощью np.genfromtxt\n",
    "data = np.genfromtxt('household_power_consumption.txt', delimiter=';', skip_header=1, dtype=None, names=names, encoding=None)\n",
    "\n",
    "# Выводим первые несколько строк массива данных\n",
    "print(data[:5])\n",
    "\n",
    "stop = timeit.default_timer()\n",
    "print(\"\\nЧас виконання: \", stop - start)\n",
    "print(data[:60])\n"
   ]
  },
  {
   "cell_type": "code",
   "execution_count": null,
   "id": "0d6878f9-77a5-46b4-83e4-a0af380549ab",
   "metadata": {},
   "outputs": [],
   "source": []
  }
 ],
 "metadata": {
  "kernelspec": {
   "display_name": "Python 3 (ipykernel)",
   "language": "python",
   "name": "python3"
  },
  "language_info": {
   "codemirror_mode": {
    "name": "ipython",
    "version": 3
   },
   "file_extension": ".py",
   "mimetype": "text/x-python",
   "name": "python",
   "nbconvert_exporter": "python",
   "pygments_lexer": "ipython3",
   "version": "3.10.7"
  }
 },
 "nbformat": 4,
 "nbformat_minor": 5
}
