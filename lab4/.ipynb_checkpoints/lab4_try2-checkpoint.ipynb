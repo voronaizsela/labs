{
 "cells": [
  {
   "cell_type": "markdown",
   "id": "d63c4722-8f4d-4acb-9c99-78cd21c8cad9",
   "metadata": {},
   "source": [
    "# Лабораторна робота No4\n",
    "## ФБ-21 Тютюннікова Віолета\n",
    "### Структури для роботи з великими обсягами даних в Python\n",
    "### *Мета: отримати навички роботи із структурами для зберігання в Python (python, numpy, pandas, numpy array, dataframe, timeit)*\n",
    "----\n",
    "## ( 1 РІВЕНЬ)\n",
    "----"
   ]
  },
  {
   "cell_type": "code",
   "execution_count": 58,
   "id": "616e326b-56ad-4466-bdd8-658cfd84571d",
   "metadata": {},
   "outputs": [
    {
     "name": "stdout",
     "output_type": "stream",
     "text": [
      "Все встановлено!\n"
     ]
    }
   ],
   "source": [
    "import pandas as pd\n",
    "import numpy as np\n",
    "import timeit\n",
    "import seaborn as sns\n",
    "import matplotlib.pyplot as plt\n",
    "from scipy.stats import pearsonr, spearmanr\n",
    "from scipy import stats\n",
    "from sklearn.preprocessing import OneHotEncoder\n",
    "print(\"Все встановлено!\")"
   ]
  },
  {
   "cell_type": "markdown",
   "id": "267a7cd0-73e4-4635-b2f2-ca71100b0421",
   "metadata": {},
   "source": [
    "#### Працюватимемо з датафреймом \"Individual household electric power consumption Data Set\". Спочатку завантажуємо дані використовуючи Pandas Dataframe:"
   ]
  },
  {
   "cell_type": "code",
   "execution_count": 2,
   "id": "ff9ade10-74b3-4eef-b39c-4bf19ab7c5f9",
   "metadata": {},
   "outputs": [
    {
     "name": "stderr",
     "output_type": "stream",
     "text": [
      "/var/folders/sb/sl366d996ss4kv01f83k587h0000gn/T/ipykernel_76119/1301812351.py:5: DtypeWarning: Columns (2,3,4,5,6,7) have mixed types. Specify dtype option on import or set low_memory=False.\n",
      "  df = pd.read_csv('household_power_consumption.txt', sep=';', header=0, names= names)\n"
     ]
    },
    {
     "name": "stdout",
     "output_type": "stream",
     "text": [
      "\n",
      "Час виконання:  2.567833209177479\n",
      "         date      time  global_active_power  global_reactive_power  voltage  \\\n",
      "0  16/12/2006  17:24:00                4.216                  0.418   234.84   \n",
      "1  16/12/2006  17:25:00                5.360                  0.436   233.63   \n",
      "2  16/12/2006  17:26:00                5.374                  0.498   233.29   \n",
      "3  16/12/2006  17:27:00                5.388                  0.502   233.74   \n",
      "4  16/12/2006  17:28:00                3.666                  0.528   235.68   \n",
      "\n",
      "   global_intensity  sub_metering_1  sub_metering_2  sub_metering_3  \n",
      "0              18.4             0.0             1.0            17.0  \n",
      "1              23.0             0.0             1.0            16.0  \n",
      "2              23.0             0.0             2.0            17.0  \n",
      "3              23.0             0.0             1.0            17.0  \n",
      "4              15.8             0.0             1.0            17.0  \n"
     ]
    }
   ],
   "source": [
    "start = timeit.default_timer()\n",
    "names = ['date', 'time', 'global_active_power', 'global_reactive_power', 'voltage', 'global_intensity', 'sub_metering_1', \n",
    "                'sub_metering_2', 'sub_metering_3']\n",
    "\n",
    "df = pd.read_csv('household_power_consumption.txt', sep=';', header=0, names= names)\n",
    "df.replace('?', np.nan, inplace=True)\n",
    "df.dropna(inplace=True)\n",
    "df[['global_active_power', 'global_reactive_power', 'voltage', 'global_intensity', 'sub_metering_1', \n",
    "                'sub_metering_2', 'sub_metering_3']] = df[['global_active_power', 'global_reactive_power', 'voltage', 'global_intensity', 'sub_metering_1', \n",
    "                'sub_metering_2', 'sub_metering_3']].astype(float)\n",
    "stop = timeit.default_timer()\n",
    "print(\"\\nЧас виконання: \", stop - start)\n",
    "#print(df.info())\n",
    "print(df.head())"
   ]
  },
  {
   "cell_type": "markdown",
   "id": "0c7c8a69-2bdc-4a06-af70-881fe2960f68",
   "metadata": {},
   "source": [
    "#### Тепер завантажуємо з використанням Numpy array:"
   ]
  },
  {
   "cell_type": "code",
   "execution_count": 3,
   "id": "4901b76e-3639-49f4-a2eb-ff788d7097d0",
   "metadata": {},
   "outputs": [
    {
     "name": "stdout",
     "output_type": "stream",
     "text": [
      "\n",
      "Час виконання:  6.470874250167981\n",
      "[('16/12/2006', '17:24:00', 4.216, 0.418, 234.84, 18.4, 0., 1., 17.)\n",
      " ('16/12/2006', '17:25:00', 5.36 , 0.436, 233.63, 23. , 0., 1., 16.)\n",
      " ('16/12/2006', '17:26:00', 5.374, 0.498, 233.29, 23. , 0., 2., 17.)\n",
      " ('16/12/2006', '17:27:00', 5.388, 0.502, 233.74, 23. , 0., 1., 17.)\n",
      " ('16/12/2006', '17:28:00', 3.666, 0.528, 235.68, 15.8, 0., 1., 17.)]\n"
     ]
    }
   ],
   "source": [
    "start = timeit.default_timer()\n",
    "dtype = [('date', 'U10'), ('time', 'U8'), ('global_active_power', float), ('global_reactive_power', float), ('voltage', float), ('global_intensity', float), ('sub_metering_1', float), ('sub_metering_2', float), ('sub_metering_3', float)]\n",
    "data = np.genfromtxt('household_power_consumption.txt', delimiter=';', skip_header=1, dtype=dtype, encoding=None, filling_values=0)\n",
    "\n",
    "\n",
    "stop = timeit.default_timer()\n",
    "print(\"\\nЧас виконання: \", stop - start)\n",
    "print(data[:5])\n"
   ]
  },
  {
   "cell_type": "markdown",
   "id": "da2beaf5-609f-43fd-8b42-274ab2dce421",
   "metadata": {},
   "source": [
    "---\n",
    "## 1. Обрати всі домогосподарства, у яких загальна активна споживана потужність перевищує 5 кВт.\n",
    "---"
   ]
  },
  {
   "cell_type": "markdown",
   "id": "06307d3d-6aa0-4fd9-ac37-c0414057e6ff",
   "metadata": {},
   "source": [
    "#### Спочатку зробимо це використовуючи pandas dataframe:"
   ]
  },
  {
   "cell_type": "code",
   "execution_count": 4,
   "id": "a05f1b18-51bb-4535-9507-a09c8e2a4cb0",
   "metadata": {},
   "outputs": [
    {
     "name": "stdout",
     "output_type": "stream",
     "text": [
      "\n",
      "Час виконання:  0.0077939999755471945\n",
      "          date      time  global_active_power  global_reactive_power  voltage  \\\n",
      "1   16/12/2006  17:25:00                5.360                  0.436   233.63   \n",
      "2   16/12/2006  17:26:00                5.374                  0.498   233.29   \n",
      "3   16/12/2006  17:27:00                5.388                  0.502   233.74   \n",
      "11  16/12/2006  17:35:00                5.412                  0.470   232.78   \n",
      "12  16/12/2006  17:36:00                5.224                  0.478   232.99   \n",
      "\n",
      "    global_intensity  sub_metering_1  sub_metering_2  sub_metering_3  \n",
      "1               23.0             0.0             1.0            16.0  \n",
      "2               23.0             0.0             2.0            17.0  \n",
      "3               23.0             0.0             1.0            17.0  \n",
      "11              23.2             0.0             1.0            17.0  \n",
      "12              22.4             0.0             1.0            16.0  \n"
     ]
    }
   ],
   "source": [
    "start = timeit.default_timer()\n",
    "lvl1_t1_pandas = df[df['global_active_power'] > 5]\n",
    "stop = timeit.default_timer()\n",
    "\n",
    "print(\"\\nЧас виконання: \", stop - start)\n",
    "print(lvl1_t1_pandas.head())"
   ]
  },
  {
   "cell_type": "markdown",
   "id": "46d4aec0-3d19-430b-a9bc-2cd1242690b0",
   "metadata": {},
   "source": [
    "#### Тепер зробимо те саме з використанням numpy array:"
   ]
  },
  {
   "cell_type": "code",
   "execution_count": 5,
   "id": "8801d098-51ca-4e8c-8b9d-7b23efd22704",
   "metadata": {},
   "outputs": [
    {
     "name": "stdout",
     "output_type": "stream",
     "text": [
      "\n",
      "Час виконання:  0.030038833850994706\n",
      "[('16/12/2006', '17:25:00', 5.36 , 0.436, 233.63, 23. , 0., 1., 16.)\n",
      " ('16/12/2006', '17:26:00', 5.374, 0.498, 233.29, 23. , 0., 2., 17.)\n",
      " ('16/12/2006', '17:27:00', 5.388, 0.502, 233.74, 23. , 0., 1., 17.)\n",
      " ('16/12/2006', '17:35:00', 5.412, 0.47 , 232.78, 23.2, 0., 1., 17.)\n",
      " ('16/12/2006', '17:36:00', 5.224, 0.478, 232.99, 22.4, 0., 1., 16.)]\n"
     ]
    }
   ],
   "source": [
    "start = timeit.default_timer()\n",
    "lvl1_t1_numpy = np.where(data['global_active_power'] > 5)\n",
    "filtered_t1 = data[lvl1_t1_numpy]\n",
    "stop = timeit.default_timer()\n",
    "\n",
    "print(\"\\nЧас виконання: \", stop - start)\n",
    "print(filtered_t1[0:5])"
   ]
  },
  {
   "cell_type": "markdown",
   "id": "0fd5f214-a935-4512-9c46-332e3864c6e4",
   "metadata": {},
   "source": [
    "---\n",
    "## 2. Обрати всі домогосподарства, у яких вольтаж перевищую 235 В.\n",
    "---"
   ]
  },
  {
   "cell_type": "markdown",
   "id": "67ea886a-c20e-4585-b565-50858440282e",
   "metadata": {},
   "source": [
    "#### Робимо використовуючи pandas dataframe:"
   ]
  },
  {
   "cell_type": "code",
   "execution_count": 6,
   "id": "ff9ff0b1-9c74-4387-8ee2-a75e9cb841a0",
   "metadata": {},
   "outputs": [
    {
     "name": "stdout",
     "output_type": "stream",
     "text": [
      "\n",
      "Час виконання:  0.08106379210948944\n",
      "          date      time  global_active_power  global_reactive_power  voltage  \\\n",
      "4   16/12/2006  17:28:00                3.666                  0.528   235.68   \n",
      "5   16/12/2006  17:29:00                3.520                  0.522   235.02   \n",
      "6   16/12/2006  17:30:00                3.702                  0.520   235.09   \n",
      "7   16/12/2006  17:31:00                3.700                  0.520   235.22   \n",
      "14  16/12/2006  17:38:00                4.054                  0.422   235.24   \n",
      "\n",
      "    global_intensity  sub_metering_1  sub_metering_2  sub_metering_3  \n",
      "4               15.8             0.0             1.0            17.0  \n",
      "5               15.0             0.0             2.0            17.0  \n",
      "6               15.8             0.0             1.0            17.0  \n",
      "7               15.8             0.0             1.0            17.0  \n",
      "14              17.6             0.0             1.0            17.0  \n"
     ]
    }
   ],
   "source": [
    "start = timeit.default_timer()\n",
    "lvl1_t2_pandas = df[df['voltage'] > 235]\n",
    "stop = timeit.default_timer()\n",
    "\n",
    "print(\"\\nЧас виконання: \", stop - start)\n",
    "print(lvl1_t2_pandas.head())"
   ]
  },
  {
   "cell_type": "markdown",
   "id": "dd1b3529-8ad3-4bd9-84e3-f2ad9755dec3",
   "metadata": {},
   "source": [
    "#### Використовуючи numpy array:"
   ]
  },
  {
   "cell_type": "code",
   "execution_count": 7,
   "id": "3ab2ad6c-1950-4f2a-98ba-96815296427a",
   "metadata": {},
   "outputs": [
    {
     "name": "stdout",
     "output_type": "stream",
     "text": [
      "\n",
      "Час виконання:  0.20350029109977186\n",
      "[('16/12/2006', '17:28:00', 3.666, 0.528, 235.68, 15.8, 0., 1., 17.)\n",
      " ('16/12/2006', '17:29:00', 3.52 , 0.522, 235.02, 15. , 0., 2., 17.)\n",
      " ('16/12/2006', '17:30:00', 3.702, 0.52 , 235.09, 15.8, 0., 1., 17.)\n",
      " ('16/12/2006', '17:31:00', 3.7  , 0.52 , 235.22, 15.8, 0., 1., 17.)\n",
      " ('16/12/2006', '17:38:00', 4.054, 0.422, 235.24, 17.6, 0., 1., 17.)]\n"
     ]
    }
   ],
   "source": [
    "start = timeit.default_timer()\n",
    "lvl1_t2_numpy = np.where(data['voltage'] > 235)\n",
    "filtered_t2 = data[lvl1_t2_numpy]\n",
    "stop = timeit.default_timer()\n",
    "\n",
    "print(\"\\nЧас виконання: \", stop - start)\n",
    "print(filtered_t2[0:5])"
   ]
  },
  {
   "cell_type": "markdown",
   "id": "24de30af-4d2a-47e6-b05d-7f2eba9ec65d",
   "metadata": {},
   "source": [
    "---\n",
    "## 3. Обрати всі домогосподарства, у яких сила струму лежить в межах 19-20 А, для них виявити ті, у яких пральна машина та холодильних споживають більше, ніж бойлер та кондиціонер.\n",
    "---"
   ]
  },
  {
   "cell_type": "markdown",
   "id": "1b6125d1-6188-4971-9433-7c2606954d6e",
   "metadata": {},
   "source": [
    "#### Зробимо використовуючи pandas dataframe:"
   ]
  },
  {
   "cell_type": "code",
   "execution_count": 8,
   "id": "dd30d4cd-fd4e-40ca-9ba2-381dacf0a501",
   "metadata": {},
   "outputs": [
    {
     "name": "stdout",
     "output_type": "stream",
     "text": [
      "\n",
      "Час виконання:  0.009452624944970012\n",
      "           date      time  global_active_power  global_reactive_power  \\\n",
      "45   16/12/2006  18:09:00                4.464                  0.136   \n",
      "460  17/12/2006  01:04:00                4.582                  0.258   \n",
      "464  17/12/2006  01:08:00                4.618                  0.104   \n",
      "475  17/12/2006  01:19:00                4.636                  0.140   \n",
      "476  17/12/2006  01:20:00                4.634                  0.152   \n",
      "\n",
      "     voltage  global_intensity  sub_metering_1  sub_metering_2  sub_metering_3  \n",
      "45    234.66              19.0             0.0            37.0            16.0  \n",
      "460   238.08              19.6             0.0            13.0             0.0  \n",
      "464   239.61              19.6             0.0            27.0             0.0  \n",
      "475   237.37              19.4             0.0            36.0             0.0  \n",
      "476   237.17              19.4             0.0            35.0             0.0  \n"
     ]
    }
   ],
   "source": [
    "start = timeit.default_timer()\n",
    "lvl1_t3_pandas = (df['global_intensity'] >= 19) & (df['global_intensity'] <= 20) \n",
    "condition3 = df[lvl1_t3_pandas & (df['sub_metering_2'] > df['sub_metering_3'])]\n",
    "stop = timeit.default_timer()\n",
    "\n",
    "print(\"\\nЧас виконання: \", stop - start)\n",
    "print(condition3.head())"
   ]
  },
  {
   "cell_type": "markdown",
   "id": "0b281690-6cf9-4535-a8eb-e17da5125e6c",
   "metadata": {},
   "source": [
    "#### Тепер зробимо використовуючи numpy array:"
   ]
  },
  {
   "cell_type": "code",
   "execution_count": 9,
   "id": "3bca22f5-e3f2-4c7e-ad12-1c89c6e43fb8",
   "metadata": {},
   "outputs": [
    {
     "name": "stdout",
     "output_type": "stream",
     "text": [
      "\n",
      "Час виконання:  0.031883500050753355\n",
      "[('16/12/2006', '18:09:00', 4.464, 0.136, 234.66, 19. , 0., 37., 16.)\n",
      " ('17/12/2006', '01:04:00', 4.582, 0.258, 238.08, 19.6, 0., 13.,  0.)\n",
      " ('17/12/2006', '01:08:00', 4.618, 0.104, 239.61, 19.6, 0., 27.,  0.)\n",
      " ('17/12/2006', '01:19:00', 4.636, 0.14 , 237.37, 19.4, 0., 36.,  0.)\n",
      " ('17/12/2006', '01:20:00', 4.634, 0.152, 237.17, 19.4, 0., 35.,  0.)]\n"
     ]
    }
   ],
   "source": [
    "start = timeit.default_timer()\n",
    "lvl1_t3_numpy = (data['global_intensity'] >= 19) & (data['global_intensity'] <= 20) & (data['sub_metering_2'] > data['sub_metering_3'])\n",
    "condition3n = data[lvl1_t3_numpy]\n",
    "stop = timeit.default_timer()\n",
    "\n",
    "print(\"\\nЧас виконання: \", stop - start)\n",
    "print(condition3n[0:5])"
   ]
  },
  {
   "cell_type": "markdown",
   "id": "28e2e533-3ac5-4891-b9d5-12b3c8615968",
   "metadata": {},
   "source": [
    "---\n",
    "## 4. Обрати випадковим чином 500000 домогосподарств (без повторів елементів вибірки), для них обчислити середні величини усіх 3-х груп споживання електричної енергії.\n",
    "---"
   ]
  },
  {
   "cell_type": "markdown",
   "id": "a2fe7193-e111-4b82-99b7-6554e1f6c6d5",
   "metadata": {},
   "source": [
    "#### Використовуючи pandas dataframe:"
   ]
  },
  {
   "cell_type": "code",
   "execution_count": 10,
   "id": "bed016d9-a400-4614-ac92-2a5e1fa1ecd4",
   "metadata": {},
   "outputs": [
    {
     "name": "stdout",
     "output_type": "stream",
     "text": [
      "\n",
      "Час виконання:  0.09531716699711978\n",
      "sub_metering_1    1.116758\n",
      "sub_metering_2    1.295614\n",
      "sub_metering_3    6.462768\n",
      "dtype: float64\n"
     ]
    }
   ],
   "source": [
    "start = timeit.default_timer()\n",
    "random = np.random.choice(len(df), size=500000, replace=False)\n",
    "random_df = df.iloc[random]\n",
    "lvl1_t4_pandas = random_df[['sub_metering_1', 'sub_metering_2', 'sub_metering_3']].mean()\n",
    "stop = timeit.default_timer()\n",
    "\n",
    "print(\"\\nЧас виконання: \", stop - start)\n",
    "print(lvl1_t4_pandas)"
   ]
  },
  {
   "cell_type": "markdown",
   "id": "b29d6da8-7727-4ba1-9d4b-ae2df556c106",
   "metadata": {},
   "source": [
    "#### З використанням numpy array:"
   ]
  },
  {
   "cell_type": "code",
   "execution_count": 11,
   "id": "3605bd09-c0d2-4d1f-8281-6323a1ec0b8d",
   "metadata": {},
   "outputs": [
    {
     "name": "stdout",
     "output_type": "stream",
     "text": [
      "\n",
      "Час виконання:  0.1289025000296533\n",
      "sub_metering_1: 1.11302\n",
      "sub_metering_2: 1.287674\n",
      "sub_metering_3: 6.377734\n"
     ]
    }
   ],
   "source": [
    "start = timeit.default_timer()\n",
    "random_numpy = np.random.choice(len(data), size=500000, replace=False)\n",
    "random_data = data[random_numpy]\n",
    "\n",
    "sub_metering_1 = random_data['sub_metering_1']\n",
    "sub_metering_2 = random_data['sub_metering_2']\n",
    "sub_metering_3 = random_data['sub_metering_3']\n",
    "\n",
    "lvl1_t4_numpy1 = np.mean(sub_metering_1)\n",
    "lvl1_t4_numpy2 = np.mean(sub_metering_2)\n",
    "lvl1_t4_numpy3 = np.mean(sub_metering_3)\n",
    "stop = timeit.default_timer()\n",
    "\n",
    "print(\"\\nЧас виконання: \", stop - start)\n",
    "\n",
    "print(\"sub_metering_1:\", lvl1_t4_numpy1)\n",
    "print(\"sub_metering_2:\", lvl1_t4_numpy2)\n",
    "print(\"sub_metering_3:\", lvl1_t4_numpy3)\n"
   ]
  },
  {
   "cell_type": "markdown",
   "id": "7606fca9-6280-4440-89c0-6e06aef1596b",
   "metadata": {},
   "source": [
    "---\n",
    "## 5. Обрати ті домогосподарства, які після 18-00 споживають понад 6 кВт за хвилину в середньому, серед відібраних визначити ті, у яких основне споживання електроенергії у вказаний проміжок часу припадає на пральну машину, сушарку, холодильник та освітлення (група 2 є найбільшою), а потім обрати кожен третій результат із першої половини та кожен четвертий результат із другої половини.\n",
    "---"
   ]
  },
  {
   "cell_type": "markdown",
   "id": "5c82f7f3-dcbc-40b8-8730-644c9a08684e",
   "metadata": {},
   "source": [
    "#### Робимо використовуючи pandas dataframe;"
   ]
  },
  {
   "cell_type": "code",
   "execution_count": 12,
   "id": "b7b0bd7f-a3f1-4f63-8958-5ee026ab1807",
   "metadata": {},
   "outputs": [
    {
     "name": "stdout",
     "output_type": "stream",
     "text": [
      "\n",
      "Час виконання:  0.059775790898129344\n",
      "             date      time  global_active_power  global_reactive_power  \\\n",
      "41     16/12/2006  18:05:00                6.052                  0.192   \n",
      "44     16/12/2006  18:08:00                6.308                  0.116   \n",
      "17494  28/12/2006  20:58:00                6.386                  0.374   \n",
      "17498  28/12/2006  21:02:00                8.088                  0.262   \n",
      "17501  28/12/2006  21:05:00                7.230                  0.152   \n",
      "\n",
      "       voltage  global_intensity  sub_metering_1  sub_metering_2  \\\n",
      "41      232.93              26.2             0.0            37.0   \n",
      "44      232.25              27.0             0.0            36.0   \n",
      "17494   236.63              27.0             1.0            36.0   \n",
      "17498   235.50              34.4             1.0            72.0   \n",
      "17501   235.22              30.6             1.0            73.0   \n",
      "\n",
      "       sub_metering_3  \n",
      "41               17.0  \n",
      "44               17.0  \n",
      "17494            17.0  \n",
      "17498            17.0  \n",
      "17501            17.0  \n"
     ]
    }
   ],
   "source": [
    "start = timeit.default_timer()\n",
    "lvl1_t5_pandas = df[(df['time'] > '18:00:00') & (df['global_active_power'] > 6)]\n",
    "\n",
    "lvl1_t5_pandas = lvl1_t5_pandas[(lvl1_t5_pandas['sub_metering_2'] > lvl1_t5_pandas['sub_metering_1']) & \n",
    "                          (lvl1_t5_pandas['sub_metering_2'] > lvl1_t5_pandas['sub_metering_3'])]\n",
    "\n",
    "first = lvl1_t5_pandas.iloc[:len(lvl1_t5_pandas)//2:3]\n",
    "second = lvl1_t5_pandas.iloc[len(lvl1_t5_pandas)//2::4]\n",
    "result = pd.concat([first, second])\n",
    "stop = timeit.default_timer()\n",
    "\n",
    "print(\"\\nЧас виконання: \", stop - start)\n",
    "print(result.head())"
   ]
  },
  {
   "cell_type": "markdown",
   "id": "16aad833-72f4-49dd-9946-abbf05d2e0a9",
   "metadata": {},
   "source": [
    "#### Використовуючи numpy array:"
   ]
  },
  {
   "cell_type": "code",
   "execution_count": 13,
   "id": "1038b7b4-32e0-426c-8ed2-c146cc62760f",
   "metadata": {},
   "outputs": [
    {
     "name": "stdout",
     "output_type": "stream",
     "text": [
      "\n",
      "Час виконання:  0.02156979194842279\n",
      "[('16/12/2006', '18:05:00', 6.052, 0.192, 232.93, 26.2, 0., 37., 17.)\n",
      " ('16/12/2006', '18:08:00', 6.308, 0.116, 232.25, 27. , 0., 36., 17.)\n",
      " ('28/12/2006', '20:58:00', 6.386, 0.374, 236.63, 27. , 1., 36., 17.)\n",
      " ('28/12/2006', '21:02:00', 8.088, 0.262, 235.5 , 34.4, 1., 72., 17.)\n",
      " ('28/12/2006', '21:05:00', 7.23 , 0.152, 235.22, 30.6, 1., 73., 17.)]\n"
     ]
    }
   ],
   "source": [
    "start = timeit.default_timer()\n",
    "filtered_data = data[(data['time'] > '18:00:00') & (data['global_active_power'] > 6)]\n",
    "filtered_data = filtered_data[(filtered_data['sub_metering_2'] > filtered_data['sub_metering_1']) & (filtered_data['sub_metering_2'] > filtered_data['sub_metering_3'])]\n",
    "\n",
    "first_half_indices = np.arange(0, len(filtered_data)//2, 3)\n",
    "second_half_indices = np.arange(len(filtered_data)//2, len(filtered_data), 4)\n",
    "\n",
    "first_half = filtered_data[first_half_indices]\n",
    "second_half = filtered_data[second_half_indices]\n",
    "\n",
    "result2 = np.concatenate([first_half, second_half])\n",
    "\n",
    "stop = timeit.default_timer()\n",
    "\n",
    "print(\"\\nЧас виконання: \", stop - start)\n",
    "print(result2[:5])"
   ]
  },
  {
   "cell_type": "markdown",
   "id": "c3b7b773-df08-4c34-8ecf-ee57d381297b",
   "metadata": {},
   "source": [
    "----\n",
    "## ( 2 РІВЕНЬ)\n",
    "----"
   ]
  },
  {
   "cell_type": "markdown",
   "id": "8affdf7c-fc54-4bb9-a057-c96c4a33a1a0",
   "metadata": {},
   "source": [
    "#### Першим кроком є вибір датасету. Було обрано датасет \"Automobile\", який відповідає всім вимогам. У датасеті  наявні наступні колонки:\n",
    "#### ‣symboling *(Оцінка ризику. Це категоріальна оцінка, яка вказує на ступінь ризику страхового випадку. Від'ємні значення означають, що автомобіль має менш ніж середній ризик, а позитивні значення - більший ризик.)*\n",
    "#### ‣normalized-losses: *(Нормалізовані збитки. Це числове значення, яке вказує на середній обсяг збитків страхових виплат за рік для цього типу автомобіля)*        \n",
    "#### ‣make: *(Виробник автомобіля)*                    \n",
    "#### ‣fuel-type: *(Тип палива, яке використовується в автомобілі (дизель або бензин))*             \n",
    "#### ‣aspiration: *(Тип наддува двигуна (стандартний або турбонаддув)*         \n",
    "#### ‣num-of-doors: *(Кількість дверей автомобіля)*     \n",
    "#### ‣body-style: *(Стиль кузова автомобіля)*      \n",
    "#### ‣drive-wheels: *(Тип приводу коліс (4wd - повний привід, fwd - передній привід, rwd - задній привід))*           \n",
    "#### ‣engine-location: *( Розташування двигуна (переднє або заднє))*       \n",
    "#### ‣wheel-base: *(Відстань між передньою і задньою віссю автомобіля)*         \n",
    "#### ‣length: *(Довжина)*                \n",
    "#### ‣width: *(Ширина)*      \n",
    "#### ‣height: *(Висота)*               \n",
    "#### ‣curb-weight: *(Вага автомобіля без пасажирів або вантажу)*        \n",
    "#### ‣engine-type: *(Тип двигуна)*       \n",
    "#### ‣num-of-cylinders: *(Кількість циліндрів у двигуні)*        \n",
    "#### ‣engine-size: *(Об'єм двигуна)*              \n",
    "#### ‣fuel-system: *(Система подачі палива до двигуна)*           \n",
    "#### ‣bore: *(Діаметр поршня)*       \n",
    "#### ‣stroke: *(Хід поршня)*                 \n",
    "#### ‣compression-ratio: *(Стиснення паливно-повітряної суміші у циліндрах)*        \n",
    "#### ‣horsepower: *(Кінські сили (потужність двигуна))* \n",
    "#### ‣peak-rpm: *(Максимальна обертова частота)*            \n",
    "#### ‣city-mpg: *(Розхід палива у місті )*       \n",
    "#### ‣highway-mpg: *(Розхід палива на трасі)*\n",
    "#### ‣price: *(Ціна автомобіля)*"
   ]
  },
  {
   "cell_type": "code",
   "execution_count": 16,
   "id": "9cf291a4-fab2-40e6-a5ee-ea855e67f62b",
   "metadata": {},
   "outputs": [
    {
     "name": "stdout",
     "output_type": "stream",
     "text": [
      "   symboling normalized-losses         make fuel-type aspiration num-of-doors  \\\n",
      "0          3                 ?  alfa-romero       gas        std          two   \n",
      "1          3                 ?  alfa-romero       gas        std          two   \n",
      "2          1                 ?  alfa-romero       gas        std          two   \n",
      "3          2               164         audi       gas        std         four   \n",
      "4          2               164         audi       gas        std         four   \n",
      "\n",
      "    body-style drive-wheels engine-location  wheel-base  ...  engine-size  \\\n",
      "0  convertible          rwd           front        88.6  ...          130   \n",
      "1  convertible          rwd           front        88.6  ...          130   \n",
      "2    hatchback          rwd           front        94.5  ...          152   \n",
      "3        sedan          fwd           front        99.8  ...          109   \n",
      "4        sedan          4wd           front        99.4  ...          136   \n",
      "\n",
      "   fuel-system  bore  stroke compression-ratio horsepower  peak-rpm city-mpg  \\\n",
      "0         mpfi  3.47    2.68               9.0        111      5000       21   \n",
      "1         mpfi  3.47    2.68               9.0        111      5000       21   \n",
      "2         mpfi  2.68    3.47               9.0        154      5000       19   \n",
      "3         mpfi  3.19    3.40              10.0        102      5500       24   \n",
      "4         mpfi  3.19    3.40               8.0        115      5500       18   \n",
      "\n",
      "  highway-mpg  price  \n",
      "0          27  13495  \n",
      "1          27  16500  \n",
      "2          26  16500  \n",
      "3          30  13950  \n",
      "4          22  17450  \n",
      "\n",
      "[5 rows x 26 columns]\n"
     ]
    }
   ],
   "source": [
    "headers = ['symboling','normalized-losses','make','fuel-type','aspiration','num-of-doors','body-style','drive-wheels','engine-location','wheel-base',\n",
    "           'length','width','height','curb-weight','engine-type','num-of-cylinders','engine-size','fuel-system','bore','stroke','compression-ratio',\n",
    "           'horsepower','peak-rpm','city-mpg','highway-mpg','price']\n",
    "df2 = pd.read_csv('automobile/imports-85.data', names=headers)\n",
    "print(df2.head())"
   ]
  },
  {
   "cell_type": "code",
   "execution_count": 32,
   "id": "f2d8c861-3308-4097-a012-9a88197b87c7",
   "metadata": {},
   "outputs": [
    {
     "name": "stdout",
     "output_type": "stream",
     "text": [
      "[['3' '?' 'alfa-romero' 'gas' 'std' 'two' 'convertible' 'rwd' 'front'\n",
      "  '88.60' '168.80' '64.10' '48.80' '2548' 'dohc' 'four' '130' 'mpfi'\n",
      "  '3.47' '2.68' '9.00' '111' '5000' '21' '27' '13495']\n",
      " ['3' '?' 'alfa-romero' 'gas' 'std' 'two' 'convertible' 'rwd' 'front'\n",
      "  '88.60' '168.80' '64.10' '48.80' '2548' 'dohc' 'four' '130' 'mpfi'\n",
      "  '3.47' '2.68' '9.00' '111' '5000' '21' '27' '16500']\n",
      " ['1' '?' 'alfa-romero' 'gas' 'std' 'two' 'hatchback' 'rwd' 'front'\n",
      "  '94.50' '171.20' '65.50' '52.40' '2823' 'ohcv' 'six' '152' 'mpfi'\n",
      "  '2.68' '3.47' '9.00' '154' '5000' '19' '26' '16500']\n",
      " ['2' '164' 'audi' 'gas' 'std' 'four' 'sedan' 'fwd' 'front' '99.80'\n",
      "  '176.60' '66.20' '54.30' '2337' 'ohc' 'four' '109' 'mpfi' '3.19' '3.40'\n",
      "  '10.00' '102' '5500' '24' '30' '13950']\n",
      " ['2' '164' 'audi' 'gas' 'std' 'four' 'sedan' '4wd' 'front' '99.40'\n",
      "  '176.60' '66.40' '54.30' '2824' 'ohc' 'five' '136' 'mpfi' '3.19' '3.40'\n",
      "  '8.00' '115' '5500' '18' '22' '17450']]\n"
     ]
    }
   ],
   "source": [
    "data2 = np.genfromtxt('automobile/imports-85.data', delimiter=',', dtype=str, encoding=None)\n",
    "\n",
    "# Output the first 5 rows of data\n",
    "print(data2[:5])"
   ]
  },
  {
   "cell_type": "markdown",
   "id": "7427291e-0b7d-4b07-ba63-d109aa27535c",
   "metadata": {},
   "source": [
    "---\n",
    "## 1. Поборотися із зниклими даними.\n",
    "---\n",
    "#### Шукаємо стовбці зі зниклими даними (позначаються \"?\")."
   ]
  },
  {
   "cell_type": "code",
   "execution_count": null,
   "id": "f3c0cbcc-214a-4465-a634-e751a1a347ff",
   "metadata": {},
   "outputs": [],
   "source": [
    "nan = df2.columns[df.eq('?').any()]\n",
    "\n",
    "print(\"Зниклі дані наявні у:\", nan)"
   ]
  },
  {
   "cell_type": "markdown",
   "id": "d3c4e110-99c4-4269-8fd5-cd578aeb0050",
   "metadata": {},
   "source": [
    "#### Отже, ми визначили стовбці з втраченими даними.\n",
    "#### Перший спосіб позбутися втрачених даних це просто видалити рядки, що їх містять. Зробимо це використовуючи dataframe (робимо на копії початкового датафрейму, щоб не впливати на подальші варіанти обробки втрачених даних):"
   ]
  },
  {
   "cell_type": "code",
   "execution_count": 36,
   "id": "80d43b20-ec31-4e49-82f0-51be8c79126e",
   "metadata": {},
   "outputs": [
    {
     "name": "stdout",
     "output_type": "stream",
     "text": [
      "\n",
      "Час виконання:  0.0020894589833915234\n",
      "    symboling normalized-losses  make fuel-type aspiration num-of-doors  \\\n",
      "3           2               164  audi       gas        std         four   \n",
      "4           2               164  audi       gas        std         four   \n",
      "6           1               158  audi       gas        std         four   \n",
      "8           1               158  audi       gas      turbo         four   \n",
      "10          2               192   bmw       gas        std          two   \n",
      "\n",
      "   body-style drive-wheels engine-location  wheel-base  ...  engine-size  \\\n",
      "3       sedan          fwd           front        99.8  ...          109   \n",
      "4       sedan          4wd           front        99.4  ...          136   \n",
      "6       sedan          fwd           front       105.8  ...          136   \n",
      "8       sedan          fwd           front       105.8  ...          131   \n",
      "10      sedan          rwd           front       101.2  ...          108   \n",
      "\n",
      "    fuel-system  bore  stroke compression-ratio horsepower  peak-rpm city-mpg  \\\n",
      "3          mpfi  3.19    3.40              10.0        102      5500       24   \n",
      "4          mpfi  3.19    3.40               8.0        115      5500       18   \n",
      "6          mpfi  3.19    3.40               8.5        110      5500       19   \n",
      "8          mpfi  3.13    3.40               8.3        140      5500       17   \n",
      "10         mpfi  3.50    2.80               8.8        101      5800       23   \n",
      "\n",
      "   highway-mpg  price  \n",
      "3           30  13950  \n",
      "4           22  17450  \n",
      "6           25  17710  \n",
      "8           20  23875  \n",
      "10          29  16430  \n",
      "\n",
      "[5 rows x 26 columns]\n"
     ]
    }
   ],
   "source": [
    "df_copy1 = df2.copy()\n",
    "start = timeit.default_timer()\n",
    "\n",
    "df_copy1.replace('?', np.nan, inplace=True)\n",
    "df_copy1.dropna(inplace=True)\n",
    "\n",
    "stop = timeit.default_timer()\n",
    "print(\"\\nЧас виконання: \", stop - start)\n",
    "\n",
    "print(df_copy1.head())"
   ]
  },
  {
   "cell_type": "markdown",
   "id": "fc88f85b-406c-4176-b72e-601c9f0149ff",
   "metadata": {},
   "source": [
    "#### Тепер також видалимо рядки, в якіх наявні втрачені дані використовуючи numpy array."
   ]
  },
  {
   "cell_type": "code",
   "execution_count": 34,
   "id": "995a910f-89ad-47ab-9624-1cb1aee20abe",
   "metadata": {},
   "outputs": [
    {
     "name": "stdout",
     "output_type": "stream",
     "text": [
      "[['2' '164' 'audi' 'gas' 'std' 'four' 'sedan' 'fwd' 'front' '99.80'\n",
      "  '176.60' '66.20' '54.30' '2337' 'ohc' 'four' '109' 'mpfi' '3.19' '3.40'\n",
      "  '10.00' '102' '5500' '24' '30' '13950']\n",
      " ['2' '164' 'audi' 'gas' 'std' 'four' 'sedan' '4wd' 'front' '99.40'\n",
      "  '176.60' '66.40' '54.30' '2824' 'ohc' 'five' '136' 'mpfi' '3.19' '3.40'\n",
      "  '8.00' '115' '5500' '18' '22' '17450']\n",
      " ['1' '158' 'audi' 'gas' 'std' 'four' 'sedan' 'fwd' 'front' '105.80'\n",
      "  '192.70' '71.40' '55.70' '2844' 'ohc' 'five' '136' 'mpfi' '3.19' '3.40'\n",
      "  '8.50' '110' '5500' '19' '25' '17710']\n",
      " ['1' '158' 'audi' 'gas' 'turbo' 'four' 'sedan' 'fwd' 'front' '105.80'\n",
      "  '192.70' '71.40' '55.90' '3086' 'ohc' 'five' '131' 'mpfi' '3.13' '3.40'\n",
      "  '8.30' '140' '5500' '17' '20' '23875']\n",
      " ['2' '192' 'bmw' 'gas' 'std' 'two' 'sedan' 'rwd' 'front' '101.20'\n",
      "  '176.80' '64.80' '54.30' '2395' 'ohc' 'four' '108' 'mpfi' '3.50' '2.80'\n",
      "  '8.80' '101' '5800' '23' '29' '16430']]\n"
     ]
    }
   ],
   "source": [
    "data2[data2 == '?'] = np.nan\n",
    "\n",
    "data2_clean = data2[~np.any(data2 == \"nan\", axis=1)]\n",
    "\n",
    "print(data2_clean[:5])"
   ]
  },
  {
   "cell_type": "markdown",
   "id": "f3ff9206-4eff-4b4a-98f5-f310a6f8581b",
   "metadata": {},
   "source": [
    "#### Тепер вирішимо проблему з втраченими даними шляхом їх заповнення. Для цього будемо знаходити моду кожного стовбчика, у якому наявні втрачені дані (і відповідно замінемо усі nan на значення моди). Спочатку робимо це використовуючи pandas dataframe:"
   ]
  },
  {
   "cell_type": "code",
   "execution_count": 37,
   "id": "7498cd2a-179b-4c51-8068-06c8a6fa565c",
   "metadata": {},
   "outputs": [
    {
     "name": "stdout",
     "output_type": "stream",
     "text": [
      "\n",
      "Час виконання:  0.005625333869829774\n",
      "   symboling normalized-losses         make fuel-type aspiration num-of-doors  \\\n",
      "0          3               161  alfa-romero       gas        std          two   \n",
      "1          3               161  alfa-romero       gas        std          two   \n",
      "2          1               161  alfa-romero       gas        std          two   \n",
      "3          2               164         audi       gas        std         four   \n",
      "4          2               164         audi       gas        std         four   \n",
      "\n",
      "    body-style drive-wheels engine-location  wheel-base  ...  engine-size  \\\n",
      "0  convertible          rwd           front        88.6  ...          130   \n",
      "1  convertible          rwd           front        88.6  ...          130   \n",
      "2    hatchback          rwd           front        94.5  ...          152   \n",
      "3        sedan          fwd           front        99.8  ...          109   \n",
      "4        sedan          4wd           front        99.4  ...          136   \n",
      "\n",
      "   fuel-system  bore  stroke compression-ratio horsepower  peak-rpm city-mpg  \\\n",
      "0         mpfi  3.47    2.68               9.0        111      5000       21   \n",
      "1         mpfi  3.47    2.68               9.0        111      5000       21   \n",
      "2         mpfi  2.68    3.47               9.0        154      5000       19   \n",
      "3         mpfi  3.19    3.40              10.0        102      5500       24   \n",
      "4         mpfi  3.19    3.40               8.0        115      5500       18   \n",
      "\n",
      "  highway-mpg  price  \n",
      "0          27  13495  \n",
      "1          27  16500  \n",
      "2          26  16500  \n",
      "3          30  13950  \n",
      "4          22  17450  \n",
      "\n",
      "[5 rows x 26 columns]\n"
     ]
    }
   ],
   "source": [
    "columns = ['normalized-losses', 'num-of-doors', 'bore', 'stroke', 'horsepower', 'peak-rpm', 'price']\n",
    "start = timeit.default_timer()\n",
    "df2.replace('?', np.nan, inplace=True)\n",
    "\n",
    "for column in columns:\n",
    "    df2[column] = df2[column].fillna(df2[column].mode()[0])\n",
    "stop = timeit.default_timer()\n",
    "\n",
    "print(\"\\nЧас виконання: \", stop - start)\n",
    "print(df2.head())"
   ]
  },
  {
   "cell_type": "markdown",
   "id": "9f3e7b9c-b858-4693-8005-3e656dc01f46",
   "metadata": {},
   "source": [
    "#### Тепер використаємо numpy array:"
   ]
  },
  {
   "cell_type": "code",
   "execution_count": 67,
   "id": "08052c54-4a86-4ba7-95be-62b999be429d",
   "metadata": {},
   "outputs": [
    {
     "name": "stdout",
     "output_type": "stream",
     "text": [
      "Оновлений масив замість 'nan' значеннями мод:\n",
      "[['3' '161' 'alfa-romero' 'gas' 'std' 'two' 'convertible' 'rwd' 'front'\n",
      "  '88.60' '168.80' '64.10' '48.80' '2548' 'dohc' 'four' '130' 'mpfi'\n",
      "  '3.47' '2.68' '9.00' '111' '5000' '21' '27' '13495']\n",
      " ['3' '161' 'alfa-romero' 'gas' 'std' 'two' 'convertible' 'rwd' 'front'\n",
      "  '88.60' '168.80' '64.10' '48.80' '2548' 'dohc' 'four' '130' 'mpfi'\n",
      "  '3.47' '2.68' '9.00' '111' '5000' '21' '27' '16500']\n",
      " ['1' '161' 'alfa-romero' 'gas' 'std' 'two' 'hatchback' 'rwd' 'front'\n",
      "  '94.50' '171.20' '65.50' '52.40' '2823' 'ohcv' 'six' '152' 'mpfi'\n",
      "  '2.68' '3.47' '9.00' '154' '5000' '19' '26' '16500']\n",
      " ['2' '164' 'audi' 'gas' 'std' 'four' 'sedan' 'fwd' 'front' '99.80'\n",
      "  '176.60' '66.20' '54.30' '2337' 'ohc' 'four' '109' 'mpfi' '3.19' '3.40'\n",
      "  '10.00' '102' '5500' '24' '30' '13950']\n",
      " ['2' '164' 'audi' 'gas' 'std' 'four' 'sedan' '4wd' 'front' '99.40'\n",
      "  '176.60' '66.40' '54.30' '2824' 'ohc' 'five' '136' 'mpfi' '3.19' '3.40'\n",
      "  '8.00' '115' '5500' '18' '22' '17450']]\n",
      "Моди кожного значення (без NaN):\n",
      "['0', '161', 'toyota', 'gas', 'std']\n"
     ]
    }
   ],
   "source": [
    "import numpy as np\n",
    "\n",
    "# Функція для знаходження моди кожного значення в масиві\n",
    "def find_modes(subarrays):\n",
    "    modes = []\n",
    "    for column in subarrays.T:\n",
    "        # Відфільтруємо значення NaN\n",
    "        if np.issubdtype(column.dtype, np.number):\n",
    "            column_without_nan = column[~np.isnan(column)]\n",
    "        else:\n",
    "            column_without_nan = column[~(column == 'nan')]\n",
    "        unique, counts = np.unique(column_without_nan, return_counts=True)\n",
    "        mode_index = np.argmax(counts)\n",
    "        mode_value = unique[mode_index]\n",
    "        modes.append(mode_value)\n",
    "    return modes\n",
    "def replace_missing_with_modes(subarrays, modes):\n",
    "    for i, column in enumerate(subarrays.T):\n",
    "        # Знаходимо індекси пропущених значень\n",
    "        missing_indices = np.where(column == 'nan')[0]\n",
    "        # Замінюємо пропущені значення модами\n",
    "        column[missing_indices] = modes[i]\n",
    "\n",
    "# Знаходимо моди кожного значення в масиві\n",
    "modes = find_modes(data2)\n",
    "\n",
    "# Замінюємо пропущені значення на моди кожного стовпця\n",
    "replace_missing_with_modes(data2, modes)\n",
    "\n",
    "print(\"Оновлений масив замість 'nan' значеннями мод:\")\n",
    "print(data2[:5])"
   ]
  },
  {
   "cell_type": "markdown",
   "id": "3c3a250c-3000-4c1d-adfd-8bff8c2883d6",
   "metadata": {},
   "source": [
    "|   Завдання  | Pandas      | Numpy Array |\n",
    "|-------------|-------------|-------------|\n",
    "| Завантаження даних   | 2.663    | 6.350    |\n",
    "| Завдання №1    | 0.055    | 0.025    |\n",
    "| Завдання №2    | 0.132    | 0.275    |\n",
    "| Завдання №3   | 0.053   | 0.042   |\n",
    "| Завдання №4   | 0.132   | 0.160   |\n",
    "| Завдання №5   | 0.104   | 0.086   |\n",
    "| Завдання №6   | Ячейка 20   | Ячейка 21   |\n",
    "| Ячейка 22   | Ячейка 23   | Ячейка 24   |\n",
    "| Ячейка 25   | Ячейка 26   | Ячейка 27   |\n",
    "| Ячейка 28   | Ячейка 29   | Ячейка 30   |\n",
    "| Ячейка 31   | Ячейка 32   | Ячейка 33   |\n",
    "| Ячейка 34   | Ячейка 35   | Ячейка 36   |\n",
    "| Ячейка 37   | Ячейка 38   | Ячейка 39   |\n",
    "| Ячейка 40   | Ячейка 41   | Ячейка 42   |\n",
    "| Ячейка 43   | Ячейка 44   | Ячейка 45   |\n",
    "| Ячейка 46   | Ячейка 47   | Ячейка 48   |\n"
   ]
  },
  {
   "cell_type": "code",
   "execution_count": 59,
   "id": "6ac78d80-87cd-4839-ae13-1d0683cdb730",
   "metadata": {},
   "outputs": [
    {
     "ename": "TypeError",
     "evalue": "Argument `a` is not recognized as numeric. Support for input that cannot be coerced to a numeric array was deprecated in SciPy 1.9.0 and removed in SciPy 1.11.0. Please consider `np.unique`.",
     "output_type": "error",
     "traceback": [
      "\u001b[0;31m---------------------------------------------------------------------------\u001b[0m",
      "\u001b[0;31mTypeError\u001b[0m                                 Traceback (most recent call last)",
      "\u001b[0;32m/var/folders/sb/sl366d996ss4kv01f83k587h0000gn/T/ipykernel_76119/1333481962.py\u001b[0m in \u001b[0;36m?\u001b[0;34m()\u001b[0m\n\u001b[0;32m----> 1\u001b[0;31m \u001b[0mm\u001b[0m \u001b[0;34m=\u001b[0m \u001b[0mstats\u001b[0m\u001b[0;34m.\u001b[0m\u001b[0mmode\u001b[0m\u001b[0;34m(\u001b[0m\u001b[0mdata2\u001b[0m\u001b[0;34m)\u001b[0m\u001b[0;34m\u001b[0m\u001b[0;34m\u001b[0m\u001b[0m\n\u001b[0m\u001b[1;32m      2\u001b[0m \u001b[0mprint\u001b[0m\u001b[0;34m(\u001b[0m\u001b[0mm\u001b[0m\u001b[0;34m)\u001b[0m\u001b[0;34m\u001b[0m\u001b[0;34m\u001b[0m\u001b[0m\n",
      "\u001b[0;32m/Library/Frameworks/Python.framework/Versions/3.10/lib/python3.10/site-packages/scipy/stats/_axis_nan_policy.py\u001b[0m in \u001b[0;36m?\u001b[0;34m(***failed resolving arguments***)\u001b[0m\n\u001b[1;32m    599\u001b[0m                         \u001b[0;32mreturn\u001b[0m \u001b[0mnp\u001b[0m\u001b[0;34m.\u001b[0m\u001b[0mfull\u001b[0m\u001b[0;34m(\u001b[0m\u001b[0mn_out\u001b[0m\u001b[0;34m,\u001b[0m \u001b[0mNaN\u001b[0m\u001b[0;34m)\u001b[0m\u001b[0;34m\u001b[0m\u001b[0;34m\u001b[0m\u001b[0m\n\u001b[1;32m    600\u001b[0m                     \u001b[0;32mreturn\u001b[0m \u001b[0mresult_to_tuple\u001b[0m\u001b[0;34m(\u001b[0m\u001b[0mhypotest_fun_out\u001b[0m\u001b[0;34m(\u001b[0m\u001b[0;34m*\u001b[0m\u001b[0msamples\u001b[0m\u001b[0;34m,\u001b[0m \u001b[0;34m**\u001b[0m\u001b[0mkwds\u001b[0m\u001b[0;34m)\u001b[0m\u001b[0;34m)\u001b[0m\u001b[0;34m\u001b[0m\u001b[0;34m\u001b[0m\u001b[0m\n\u001b[1;32m    601\u001b[0m \u001b[0;34m\u001b[0m\u001b[0m\n\u001b[1;32m    602\u001b[0m             \u001b[0mx\u001b[0m \u001b[0;34m=\u001b[0m \u001b[0mnp\u001b[0m\u001b[0;34m.\u001b[0m\u001b[0mmoveaxis\u001b[0m\u001b[0;34m(\u001b[0m\u001b[0mx\u001b[0m\u001b[0;34m,\u001b[0m \u001b[0maxis\u001b[0m\u001b[0;34m,\u001b[0m \u001b[0;36m0\u001b[0m\u001b[0;34m)\u001b[0m\u001b[0;34m\u001b[0m\u001b[0;34m\u001b[0m\u001b[0m\n\u001b[0;32m--> 603\u001b[0;31m             \u001b[0mres\u001b[0m \u001b[0;34m=\u001b[0m \u001b[0mnp\u001b[0m\u001b[0;34m.\u001b[0m\u001b[0mapply_along_axis\u001b[0m\u001b[0;34m(\u001b[0m\u001b[0mhypotest_fun\u001b[0m\u001b[0;34m,\u001b[0m \u001b[0maxis\u001b[0m\u001b[0;34m=\u001b[0m\u001b[0;36m0\u001b[0m\u001b[0;34m,\u001b[0m \u001b[0marr\u001b[0m\u001b[0;34m=\u001b[0m\u001b[0mx\u001b[0m\u001b[0;34m)\u001b[0m\u001b[0;34m\u001b[0m\u001b[0;34m\u001b[0m\u001b[0m\n\u001b[0m\u001b[1;32m    604\u001b[0m             \u001b[0mres\u001b[0m \u001b[0;34m=\u001b[0m \u001b[0m_add_reduced_axes\u001b[0m\u001b[0;34m(\u001b[0m\u001b[0mres\u001b[0m\u001b[0;34m,\u001b[0m \u001b[0mreduced_axes\u001b[0m\u001b[0;34m,\u001b[0m \u001b[0mkeepdims\u001b[0m\u001b[0;34m)\u001b[0m\u001b[0;34m\u001b[0m\u001b[0;34m\u001b[0m\u001b[0m\n\u001b[1;32m    605\u001b[0m             \u001b[0;32mreturn\u001b[0m \u001b[0mtuple_to_result\u001b[0m\u001b[0;34m(\u001b[0m\u001b[0;34m*\u001b[0m\u001b[0mres\u001b[0m\u001b[0;34m)\u001b[0m\u001b[0;34m\u001b[0m\u001b[0;34m\u001b[0m\u001b[0m\n",
      "\u001b[0;32m<__array_function__ internals>\u001b[0m in \u001b[0;36m?\u001b[0;34m(*args, **kwargs)\u001b[0m\n",
      "\u001b[0;32m/Library/Frameworks/Python.framework/Versions/3.10/lib/python3.10/site-packages/numpy/lib/shape_base.py\u001b[0m in \u001b[0;36m?\u001b[0;34m(func1d, axis, arr, *args, **kwargs)\u001b[0m\n\u001b[1;32m    375\u001b[0m     \u001b[0;32mexcept\u001b[0m \u001b[0mStopIteration\u001b[0m \u001b[0;32mas\u001b[0m \u001b[0me\u001b[0m\u001b[0;34m:\u001b[0m\u001b[0;34m\u001b[0m\u001b[0;34m\u001b[0m\u001b[0m\n\u001b[1;32m    376\u001b[0m         raise ValueError(\n\u001b[1;32m    377\u001b[0m             \u001b[0;34m'Cannot apply_along_axis when any iteration dimensions are 0'\u001b[0m\u001b[0;34m\u001b[0m\u001b[0;34m\u001b[0m\u001b[0m\n\u001b[1;32m    378\u001b[0m         ) from None\n\u001b[0;32m--> 379\u001b[0;31m     \u001b[0mres\u001b[0m \u001b[0;34m=\u001b[0m \u001b[0masanyarray\u001b[0m\u001b[0;34m(\u001b[0m\u001b[0mfunc1d\u001b[0m\u001b[0;34m(\u001b[0m\u001b[0minarr_view\u001b[0m\u001b[0;34m[\u001b[0m\u001b[0mind0\u001b[0m\u001b[0;34m]\u001b[0m\u001b[0;34m,\u001b[0m \u001b[0;34m*\u001b[0m\u001b[0margs\u001b[0m\u001b[0;34m,\u001b[0m \u001b[0;34m**\u001b[0m\u001b[0mkwargs\u001b[0m\u001b[0;34m)\u001b[0m\u001b[0;34m)\u001b[0m\u001b[0;34m\u001b[0m\u001b[0;34m\u001b[0m\u001b[0m\n\u001b[0m\u001b[1;32m    380\u001b[0m \u001b[0;34m\u001b[0m\u001b[0m\n\u001b[1;32m    381\u001b[0m     \u001b[0;31m# build a buffer for storing evaluations of func1d.\u001b[0m\u001b[0;34m\u001b[0m\u001b[0;34m\u001b[0m\u001b[0m\n\u001b[1;32m    382\u001b[0m     \u001b[0;31m# remove the requested axis, and add the new ones on the end.\u001b[0m\u001b[0;34m\u001b[0m\u001b[0;34m\u001b[0m\u001b[0m\n",
      "\u001b[0;32m/Library/Frameworks/Python.framework/Versions/3.10/lib/python3.10/site-packages/scipy/stats/_axis_nan_policy.py\u001b[0m in \u001b[0;36m?\u001b[0;34m(x)\u001b[0m\n\u001b[1;32m    596\u001b[0m                     \u001b[0;32mif\u001b[0m \u001b[0msentinel\u001b[0m\u001b[0;34m:\u001b[0m\u001b[0;34m\u001b[0m\u001b[0;34m\u001b[0m\u001b[0m\n\u001b[1;32m    597\u001b[0m                         \u001b[0msamples\u001b[0m \u001b[0;34m=\u001b[0m \u001b[0m_remove_sentinel\u001b[0m\u001b[0;34m(\u001b[0m\u001b[0msamples\u001b[0m\u001b[0;34m,\u001b[0m \u001b[0mpaired\u001b[0m\u001b[0;34m,\u001b[0m \u001b[0msentinel\u001b[0m\u001b[0;34m)\u001b[0m\u001b[0;34m\u001b[0m\u001b[0;34m\u001b[0m\u001b[0m\n\u001b[1;32m    598\u001b[0m                     \u001b[0;32mif\u001b[0m \u001b[0mis_too_small\u001b[0m\u001b[0;34m(\u001b[0m\u001b[0msamples\u001b[0m\u001b[0;34m,\u001b[0m \u001b[0mkwds\u001b[0m\u001b[0;34m)\u001b[0m\u001b[0;34m:\u001b[0m\u001b[0;34m\u001b[0m\u001b[0;34m\u001b[0m\u001b[0m\n\u001b[1;32m    599\u001b[0m                         \u001b[0;32mreturn\u001b[0m \u001b[0mnp\u001b[0m\u001b[0;34m.\u001b[0m\u001b[0mfull\u001b[0m\u001b[0;34m(\u001b[0m\u001b[0mn_out\u001b[0m\u001b[0;34m,\u001b[0m \u001b[0mNaN\u001b[0m\u001b[0;34m)\u001b[0m\u001b[0;34m\u001b[0m\u001b[0;34m\u001b[0m\u001b[0m\n\u001b[0;32m--> 600\u001b[0;31m                     \u001b[0;32mreturn\u001b[0m \u001b[0mresult_to_tuple\u001b[0m\u001b[0;34m(\u001b[0m\u001b[0mhypotest_fun_out\u001b[0m\u001b[0;34m(\u001b[0m\u001b[0;34m*\u001b[0m\u001b[0msamples\u001b[0m\u001b[0;34m,\u001b[0m \u001b[0;34m**\u001b[0m\u001b[0mkwds\u001b[0m\u001b[0;34m)\u001b[0m\u001b[0;34m)\u001b[0m\u001b[0;34m\u001b[0m\u001b[0;34m\u001b[0m\u001b[0m\n\u001b[0m",
      "\u001b[0;32m/Library/Frameworks/Python.framework/Versions/3.10/lib/python3.10/site-packages/scipy/stats/_stats_py.py\u001b[0m in \u001b[0;36m?\u001b[0;34m(a, axis, nan_policy, keepdims)\u001b[0m\n\u001b[1;32m    518\u001b[0m         message = (\"Argument `a` is not recognized as numeric. \"\n\u001b[1;32m    519\u001b[0m                    \u001b[0;34m\"Support for input that cannot be coerced to a numeric \"\u001b[0m\u001b[0;34m\u001b[0m\u001b[0;34m\u001b[0m\u001b[0m\n\u001b[1;32m    520\u001b[0m                    \u001b[0;34m\"array was deprecated in SciPy 1.9.0 and removed in SciPy \"\u001b[0m\u001b[0;34m\u001b[0m\u001b[0;34m\u001b[0m\u001b[0m\n\u001b[1;32m    521\u001b[0m                    \"1.11.0. Please consider `np.unique`.\")\n\u001b[0;32m--> 522\u001b[0;31m         \u001b[0;32mraise\u001b[0m \u001b[0mTypeError\u001b[0m\u001b[0;34m(\u001b[0m\u001b[0mmessage\u001b[0m\u001b[0;34m)\u001b[0m\u001b[0;34m\u001b[0m\u001b[0;34m\u001b[0m\u001b[0m\n\u001b[0m\u001b[1;32m    523\u001b[0m \u001b[0;34m\u001b[0m\u001b[0m\n\u001b[1;32m    524\u001b[0m     \u001b[0;32mif\u001b[0m \u001b[0ma\u001b[0m\u001b[0;34m.\u001b[0m\u001b[0msize\u001b[0m \u001b[0;34m==\u001b[0m \u001b[0;36m0\u001b[0m\u001b[0;34m:\u001b[0m\u001b[0;34m\u001b[0m\u001b[0;34m\u001b[0m\u001b[0m\n\u001b[1;32m    525\u001b[0m         \u001b[0mNaN\u001b[0m \u001b[0;34m=\u001b[0m \u001b[0m_get_nan\u001b[0m\u001b[0;34m(\u001b[0m\u001b[0ma\u001b[0m\u001b[0;34m)\u001b[0m\u001b[0;34m\u001b[0m\u001b[0;34m\u001b[0m\u001b[0m\n",
      "\u001b[0;31mTypeError\u001b[0m: Argument `a` is not recognized as numeric. Support for input that cannot be coerced to a numeric array was deprecated in SciPy 1.9.0 and removed in SciPy 1.11.0. Please consider `np.unique`."
     ]
    }
   ],
   "source": [
    "m = stats.mode(data2)\n",
    "print(m)"
   ]
  },
  {
   "cell_type": "code",
   "execution_count": null,
   "id": "785f6718-c820-40d8-9c4a-daeff1cd945f",
   "metadata": {},
   "outputs": [],
   "source": []
  }
 ],
 "metadata": {
  "kernelspec": {
   "display_name": "Python 3 (ipykernel)",
   "language": "python",
   "name": "python3"
  },
  "language_info": {
   "codemirror_mode": {
    "name": "ipython",
    "version": 3
   },
   "file_extension": ".py",
   "mimetype": "text/x-python",
   "name": "python",
   "nbconvert_exporter": "python",
   "pygments_lexer": "ipython3",
   "version": "3.10.7"
  }
 },
 "nbformat": 4,
 "nbformat_minor": 5
}
